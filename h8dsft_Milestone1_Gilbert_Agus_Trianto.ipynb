{
 "cells": [
  {
   "attachments": {},
   "cell_type": "markdown",
   "metadata": {},
   "source": [
    "## Analisa penjualan rumah di King County di Negara Bagian Washington "
   ]
  },
  {
   "attachments": {},
   "cell_type": "markdown",
   "metadata": {},
   "source": [
    "Gilbert Agus Trianto, HCK 006"
   ]
  },
  {
   "attachments": {},
   "cell_type": "markdown",
   "metadata": {},
   "source": [
    "### Identifikasi Masalah\n",
    "Objective\n",
    "Analisa penjualan rumah di King Country di negara bagian Washington pada tahun 2014 dan 2015 menggunakan pengumpulan data yang dipilih dan pengambilan kesimpulan berdasarkan data sampel, serta prediksi nilai penjualan rumah. "
   ]
  },
  {
   "attachments": {},
   "cell_type": "markdown",
   "metadata": {},
   "source": [
    "### Problem Statement\n",
    "Apakah kondisi rumah, fasilitas, lokasi suatu daerah dapat mempengaruhi harga suatu rumah yang dijual pada tahun 2014-2015\n",
    "\n",
    "1. Apa faktor-faktor yang mempengaruhi harga perumahan?\n",
    "2. Dimana daerah rumah yang memiliki harga yang mahal? (berdasarkan kode post nya)\n",
    "3. Pada harga rumah termahal, berapa harga tanah per-perseginya?\n",
    "4. Berapa data penjualan rumah terbanyak perbulannya pada tiap tahunnya? \n",
    "5. Bagaimana tren harga perumahan dalam tahun 2014-2015 di suatu wilayah?\n",
    "6. Jika ada yang ingin menjual rumah dengan kategori 8 diperkirakan di kisaran harga berapa rumah tersebut pantas untuk dijual pada tahun 2015. Lakukan perhitungan terhadap nilai CI nya dengan data yang sudah dihandling outliers nya.\n",
    "7. Apakah harga rumah (dengan kategori) yang dijual di dengan kondisi rumah direnovasi dan tidak direnovasi memiliki harga yang signifikan?"
   ]
  },
  {
   "attachments": {},
   "cell_type": "markdown",
   "metadata": {},
   "source": [
    "### Data Loading\n",
    "\n",
    "Data set yang digunakan berasal dari kaggle: \n",
    "https://www.kaggle.com/datasets/swathiachath/kc-housesales-data"
   ]
  },
  {
   "attachments": {},
   "cell_type": "markdown",
   "metadata": {},
   "source": [
    "Dashboard:\n",
    "https://public.tableau.com/shared/XW5CR334X?:display_count=n&:origin=viz_share_link"
   ]
  },
  {
   "cell_type": "code",
   "execution_count": 105,
   "metadata": {},
   "outputs": [],
   "source": [
    "#Import Liblary yang digunakan\n",
    "import pandas as pd\n",
    "import numpy as np"
   ]
  },
  {
   "attachments": {},
   "cell_type": "markdown",
   "metadata": {},
   "source": [
    "Melakukan eksplorasi data dan menampilkan bentuk data yang didapat"
   ]
  },
  {
   "cell_type": "code",
   "execution_count": 20,
   "metadata": {},
   "outputs": [],
   "source": [
    "#Import dataset\n",
    "houses = pd.read_csv(\"kc_house_data.csv\",parse_dates=['date'])"
   ]
  },
  {
   "cell_type": "code",
   "execution_count": 3,
   "metadata": {},
   "outputs": [],
   "source": [
    "#Perluas tampilan keluaran untuk melihat lebih banyak kolom\n",
    "pd.set_option('display.max_columns', None)"
   ]
  },
  {
   "cell_type": "code",
   "execution_count": 4,
   "metadata": {},
   "outputs": [
    {
     "name": "stdout",
     "output_type": "stream",
     "text": [
      "<class 'pandas.core.frame.DataFrame'>\n",
      "RangeIndex: 21613 entries, 0 to 21612\n",
      "Data columns (total 21 columns):\n",
      " #   Column         Non-Null Count  Dtype         \n",
      "---  ------         --------------  -----         \n",
      " 0   id             21613 non-null  int64         \n",
      " 1   date           21613 non-null  datetime64[ns]\n",
      " 2   price          21613 non-null  float64       \n",
      " 3   bedrooms       21613 non-null  int64         \n",
      " 4   bathrooms      21613 non-null  float64       \n",
      " 5   sqft_living    21613 non-null  int64         \n",
      " 6   sqft_lot       21613 non-null  int64         \n",
      " 7   floors         21613 non-null  float64       \n",
      " 8   waterfront     21613 non-null  int64         \n",
      " 9   view           21613 non-null  int64         \n",
      " 10  condition      21613 non-null  int64         \n",
      " 11  grade          21613 non-null  int64         \n",
      " 12  sqft_above     21611 non-null  float64       \n",
      " 13  sqft_basement  21613 non-null  int64         \n",
      " 14  yr_built       21613 non-null  int64         \n",
      " 15  yr_renovated   21613 non-null  int64         \n",
      " 16  zipcode        21613 non-null  int64         \n",
      " 17  lat            21613 non-null  float64       \n",
      " 18  long           21613 non-null  float64       \n",
      " 19  sqft_living15  21613 non-null  int64         \n",
      " 20  sqft_lot15     21613 non-null  int64         \n",
      "dtypes: datetime64[ns](1), float64(6), int64(14)\n",
      "memory usage: 3.5 MB\n"
     ]
    }
   ],
   "source": [
    "houses.info()"
   ]
  },
  {
   "cell_type": "code",
   "execution_count": 5,
   "metadata": {},
   "outputs": [
    {
     "data": {
      "text/html": [
       "<div>\n",
       "<style scoped>\n",
       "    .dataframe tbody tr th:only-of-type {\n",
       "        vertical-align: middle;\n",
       "    }\n",
       "\n",
       "    .dataframe tbody tr th {\n",
       "        vertical-align: top;\n",
       "    }\n",
       "\n",
       "    .dataframe thead th {\n",
       "        text-align: right;\n",
       "    }\n",
       "</style>\n",
       "<table border=\"1\" class=\"dataframe\">\n",
       "  <thead>\n",
       "    <tr style=\"text-align: right;\">\n",
       "      <th></th>\n",
       "      <th>id</th>\n",
       "      <th>date</th>\n",
       "      <th>price</th>\n",
       "      <th>bedrooms</th>\n",
       "      <th>bathrooms</th>\n",
       "      <th>sqft_living</th>\n",
       "      <th>sqft_lot</th>\n",
       "      <th>floors</th>\n",
       "      <th>waterfront</th>\n",
       "      <th>view</th>\n",
       "      <th>condition</th>\n",
       "      <th>grade</th>\n",
       "      <th>sqft_above</th>\n",
       "      <th>sqft_basement</th>\n",
       "      <th>yr_built</th>\n",
       "      <th>yr_renovated</th>\n",
       "      <th>zipcode</th>\n",
       "      <th>lat</th>\n",
       "      <th>long</th>\n",
       "      <th>sqft_living15</th>\n",
       "      <th>sqft_lot15</th>\n",
       "    </tr>\n",
       "  </thead>\n",
       "  <tbody>\n",
       "    <tr>\n",
       "      <th>0</th>\n",
       "      <td>7129300520</td>\n",
       "      <td>2014-10-13</td>\n",
       "      <td>221900.0</td>\n",
       "      <td>3</td>\n",
       "      <td>1.00</td>\n",
       "      <td>1180</td>\n",
       "      <td>5650</td>\n",
       "      <td>1.0</td>\n",
       "      <td>0</td>\n",
       "      <td>0</td>\n",
       "      <td>3</td>\n",
       "      <td>7</td>\n",
       "      <td>1180.0</td>\n",
       "      <td>0</td>\n",
       "      <td>1955</td>\n",
       "      <td>0</td>\n",
       "      <td>98178</td>\n",
       "      <td>47.5112</td>\n",
       "      <td>-122.257</td>\n",
       "      <td>1340</td>\n",
       "      <td>5650</td>\n",
       "    </tr>\n",
       "    <tr>\n",
       "      <th>1</th>\n",
       "      <td>6414100192</td>\n",
       "      <td>2014-12-09</td>\n",
       "      <td>538000.0</td>\n",
       "      <td>3</td>\n",
       "      <td>2.25</td>\n",
       "      <td>2570</td>\n",
       "      <td>7242</td>\n",
       "      <td>2.0</td>\n",
       "      <td>0</td>\n",
       "      <td>0</td>\n",
       "      <td>3</td>\n",
       "      <td>7</td>\n",
       "      <td>2170.0</td>\n",
       "      <td>400</td>\n",
       "      <td>1951</td>\n",
       "      <td>1991</td>\n",
       "      <td>98125</td>\n",
       "      <td>47.7210</td>\n",
       "      <td>-122.319</td>\n",
       "      <td>1690</td>\n",
       "      <td>7639</td>\n",
       "    </tr>\n",
       "    <tr>\n",
       "      <th>2</th>\n",
       "      <td>5631500400</td>\n",
       "      <td>2015-02-25</td>\n",
       "      <td>180000.0</td>\n",
       "      <td>2</td>\n",
       "      <td>1.00</td>\n",
       "      <td>770</td>\n",
       "      <td>10000</td>\n",
       "      <td>1.0</td>\n",
       "      <td>0</td>\n",
       "      <td>0</td>\n",
       "      <td>3</td>\n",
       "      <td>6</td>\n",
       "      <td>770.0</td>\n",
       "      <td>0</td>\n",
       "      <td>1933</td>\n",
       "      <td>0</td>\n",
       "      <td>98028</td>\n",
       "      <td>47.7379</td>\n",
       "      <td>-122.233</td>\n",
       "      <td>2720</td>\n",
       "      <td>8062</td>\n",
       "    </tr>\n",
       "    <tr>\n",
       "      <th>3</th>\n",
       "      <td>2487200875</td>\n",
       "      <td>2014-12-09</td>\n",
       "      <td>604000.0</td>\n",
       "      <td>4</td>\n",
       "      <td>3.00</td>\n",
       "      <td>1960</td>\n",
       "      <td>5000</td>\n",
       "      <td>1.0</td>\n",
       "      <td>0</td>\n",
       "      <td>0</td>\n",
       "      <td>5</td>\n",
       "      <td>7</td>\n",
       "      <td>1050.0</td>\n",
       "      <td>910</td>\n",
       "      <td>1965</td>\n",
       "      <td>0</td>\n",
       "      <td>98136</td>\n",
       "      <td>47.5208</td>\n",
       "      <td>-122.393</td>\n",
       "      <td>1360</td>\n",
       "      <td>5000</td>\n",
       "    </tr>\n",
       "    <tr>\n",
       "      <th>4</th>\n",
       "      <td>1954400510</td>\n",
       "      <td>2015-02-18</td>\n",
       "      <td>510000.0</td>\n",
       "      <td>3</td>\n",
       "      <td>2.00</td>\n",
       "      <td>1680</td>\n",
       "      <td>8080</td>\n",
       "      <td>1.0</td>\n",
       "      <td>0</td>\n",
       "      <td>0</td>\n",
       "      <td>3</td>\n",
       "      <td>8</td>\n",
       "      <td>1680.0</td>\n",
       "      <td>0</td>\n",
       "      <td>1987</td>\n",
       "      <td>0</td>\n",
       "      <td>98074</td>\n",
       "      <td>47.6168</td>\n",
       "      <td>-122.045</td>\n",
       "      <td>1800</td>\n",
       "      <td>7503</td>\n",
       "    </tr>\n",
       "  </tbody>\n",
       "</table>\n",
       "</div>"
      ],
      "text/plain": [
       "           id       date     price  bedrooms  bathrooms  sqft_living  \\\n",
       "0  7129300520 2014-10-13  221900.0         3       1.00         1180   \n",
       "1  6414100192 2014-12-09  538000.0         3       2.25         2570   \n",
       "2  5631500400 2015-02-25  180000.0         2       1.00          770   \n",
       "3  2487200875 2014-12-09  604000.0         4       3.00         1960   \n",
       "4  1954400510 2015-02-18  510000.0         3       2.00         1680   \n",
       "\n",
       "   sqft_lot  floors  waterfront  view  condition  grade  sqft_above  \\\n",
       "0      5650     1.0           0     0          3      7      1180.0   \n",
       "1      7242     2.0           0     0          3      7      2170.0   \n",
       "2     10000     1.0           0     0          3      6       770.0   \n",
       "3      5000     1.0           0     0          5      7      1050.0   \n",
       "4      8080     1.0           0     0          3      8      1680.0   \n",
       "\n",
       "   sqft_basement  yr_built  yr_renovated  zipcode      lat     long  \\\n",
       "0              0      1955             0    98178  47.5112 -122.257   \n",
       "1            400      1951          1991    98125  47.7210 -122.319   \n",
       "2              0      1933             0    98028  47.7379 -122.233   \n",
       "3            910      1965             0    98136  47.5208 -122.393   \n",
       "4              0      1987             0    98074  47.6168 -122.045   \n",
       "\n",
       "   sqft_living15  sqft_lot15  \n",
       "0           1340        5650  \n",
       "1           1690        7639  \n",
       "2           2720        8062  \n",
       "3           1360        5000  \n",
       "4           1800        7503  "
      ]
     },
     "execution_count": 5,
     "metadata": {},
     "output_type": "execute_result"
    }
   ],
   "source": [
    "houses.head()"
   ]
  },
  {
   "attachments": {},
   "cell_type": "markdown",
   "metadata": {},
   "source": [
    "#### Data Cleaning"
   ]
  },
  {
   "cell_type": "code",
   "execution_count": 7,
   "metadata": {},
   "outputs": [
    {
     "data": {
      "text/plain": [
       "0"
      ]
     },
     "execution_count": 7,
     "metadata": {},
     "output_type": "execute_result"
    }
   ],
   "source": [
    "#Cek data yang duplikat\n",
    "houses.duplicated().sum()"
   ]
  },
  {
   "cell_type": "code",
   "execution_count": 8,
   "metadata": {},
   "outputs": [
    {
     "data": {
      "text/plain": [
       "id               0\n",
       "date             0\n",
       "price            0\n",
       "bedrooms         0\n",
       "bathrooms        0\n",
       "sqft_living      0\n",
       "sqft_lot         0\n",
       "floors           0\n",
       "waterfront       0\n",
       "view             0\n",
       "condition        0\n",
       "grade            0\n",
       "sqft_above       2\n",
       "sqft_basement    0\n",
       "yr_built         0\n",
       "yr_renovated     0\n",
       "zipcode          0\n",
       "lat              0\n",
       "long             0\n",
       "sqft_living15    0\n",
       "sqft_lot15       0\n",
       "dtype: int64"
      ]
     },
     "execution_count": 8,
     "metadata": {},
     "output_type": "execute_result"
    }
   ],
   "source": [
    "#Cek null data \n",
    "houses.isnull().sum()"
   ]
  },
  {
   "attachments": {},
   "cell_type": "markdown",
   "metadata": {},
   "source": [
    "Handling Null Data"
   ]
  },
  {
   "cell_type": "code",
   "execution_count": 9,
   "metadata": {},
   "outputs": [
    {
     "data": {
      "text/html": [
       "<div>\n",
       "<style scoped>\n",
       "    .dataframe tbody tr th:only-of-type {\n",
       "        vertical-align: middle;\n",
       "    }\n",
       "\n",
       "    .dataframe tbody tr th {\n",
       "        vertical-align: top;\n",
       "    }\n",
       "\n",
       "    .dataframe thead th {\n",
       "        text-align: right;\n",
       "    }\n",
       "</style>\n",
       "<table border=\"1\" class=\"dataframe\">\n",
       "  <thead>\n",
       "    <tr style=\"text-align: right;\">\n",
       "      <th></th>\n",
       "      <th>id</th>\n",
       "      <th>date</th>\n",
       "      <th>price</th>\n",
       "      <th>bedrooms</th>\n",
       "      <th>bathrooms</th>\n",
       "      <th>sqft_living</th>\n",
       "      <th>sqft_lot</th>\n",
       "      <th>floors</th>\n",
       "      <th>waterfront</th>\n",
       "      <th>view</th>\n",
       "      <th>condition</th>\n",
       "      <th>grade</th>\n",
       "      <th>sqft_above</th>\n",
       "      <th>sqft_basement</th>\n",
       "      <th>yr_built</th>\n",
       "      <th>yr_renovated</th>\n",
       "      <th>zipcode</th>\n",
       "      <th>lat</th>\n",
       "      <th>long</th>\n",
       "      <th>sqft_living15</th>\n",
       "      <th>sqft_lot15</th>\n",
       "    </tr>\n",
       "  </thead>\n",
       "  <tbody>\n",
       "    <tr>\n",
       "      <th>10</th>\n",
       "      <td>1736800520</td>\n",
       "      <td>2015-04-03</td>\n",
       "      <td>662500.0</td>\n",
       "      <td>3</td>\n",
       "      <td>2.5</td>\n",
       "      <td>3560</td>\n",
       "      <td>9796</td>\n",
       "      <td>1.0</td>\n",
       "      <td>0</td>\n",
       "      <td>0</td>\n",
       "      <td>3</td>\n",
       "      <td>8</td>\n",
       "      <td>NaN</td>\n",
       "      <td>1700</td>\n",
       "      <td>1965</td>\n",
       "      <td>0</td>\n",
       "      <td>98007</td>\n",
       "      <td>47.6007</td>\n",
       "      <td>-122.145</td>\n",
       "      <td>2210</td>\n",
       "      <td>8925</td>\n",
       "    </tr>\n",
       "    <tr>\n",
       "      <th>17</th>\n",
       "      <td>6865200140</td>\n",
       "      <td>2014-05-29</td>\n",
       "      <td>485000.0</td>\n",
       "      <td>4</td>\n",
       "      <td>1.0</td>\n",
       "      <td>1600</td>\n",
       "      <td>4300</td>\n",
       "      <td>1.5</td>\n",
       "      <td>0</td>\n",
       "      <td>0</td>\n",
       "      <td>4</td>\n",
       "      <td>7</td>\n",
       "      <td>NaN</td>\n",
       "      <td>0</td>\n",
       "      <td>1916</td>\n",
       "      <td>0</td>\n",
       "      <td>98103</td>\n",
       "      <td>47.6648</td>\n",
       "      <td>-122.343</td>\n",
       "      <td>1610</td>\n",
       "      <td>4300</td>\n",
       "    </tr>\n",
       "  </tbody>\n",
       "</table>\n",
       "</div>"
      ],
      "text/plain": [
       "            id       date     price  bedrooms  bathrooms  sqft_living  \\\n",
       "10  1736800520 2015-04-03  662500.0         3        2.5         3560   \n",
       "17  6865200140 2014-05-29  485000.0         4        1.0         1600   \n",
       "\n",
       "    sqft_lot  floors  waterfront  view  condition  grade  sqft_above  \\\n",
       "10      9796     1.0           0     0          3      8         NaN   \n",
       "17      4300     1.5           0     0          4      7         NaN   \n",
       "\n",
       "    sqft_basement  yr_built  yr_renovated  zipcode      lat     long  \\\n",
       "10           1700      1965             0    98007  47.6007 -122.145   \n",
       "17              0      1916             0    98103  47.6648 -122.343   \n",
       "\n",
       "    sqft_living15  sqft_lot15  \n",
       "10           2210        8925  \n",
       "17           1610        4300  "
      ]
     },
     "execution_count": 9,
     "metadata": {},
     "output_type": "execute_result"
    }
   ],
   "source": [
    "#Menampilkan data yang null\n",
    "houses[houses['sqft_above'].isnull()]"
   ]
  },
  {
   "cell_type": "code",
   "execution_count": 10,
   "metadata": {},
   "outputs": [
    {
     "data": {
      "text/html": [
       "<div>\n",
       "<style scoped>\n",
       "    .dataframe tbody tr th:only-of-type {\n",
       "        vertical-align: middle;\n",
       "    }\n",
       "\n",
       "    .dataframe tbody tr th {\n",
       "        vertical-align: top;\n",
       "    }\n",
       "\n",
       "    .dataframe thead th {\n",
       "        text-align: right;\n",
       "    }\n",
       "</style>\n",
       "<table border=\"1\" class=\"dataframe\">\n",
       "  <thead>\n",
       "    <tr style=\"text-align: right;\">\n",
       "      <th></th>\n",
       "      <th>id</th>\n",
       "      <th>date</th>\n",
       "      <th>price</th>\n",
       "      <th>bedrooms</th>\n",
       "      <th>bathrooms</th>\n",
       "      <th>sqft_living</th>\n",
       "      <th>sqft_lot</th>\n",
       "      <th>floors</th>\n",
       "      <th>waterfront</th>\n",
       "      <th>view</th>\n",
       "      <th>condition</th>\n",
       "      <th>grade</th>\n",
       "      <th>sqft_above</th>\n",
       "      <th>sqft_basement</th>\n",
       "      <th>yr_built</th>\n",
       "      <th>yr_renovated</th>\n",
       "      <th>zipcode</th>\n",
       "      <th>lat</th>\n",
       "      <th>long</th>\n",
       "      <th>sqft_living15</th>\n",
       "      <th>sqft_lot15</th>\n",
       "    </tr>\n",
       "  </thead>\n",
       "  <tbody>\n",
       "    <tr>\n",
       "      <th>8</th>\n",
       "      <td>2414600126</td>\n",
       "      <td>2015-04-15</td>\n",
       "      <td>229500.0</td>\n",
       "      <td>3</td>\n",
       "      <td>1.0</td>\n",
       "      <td>1780</td>\n",
       "      <td>7470</td>\n",
       "      <td>1.0</td>\n",
       "      <td>0</td>\n",
       "      <td>0</td>\n",
       "      <td>3</td>\n",
       "      <td>7</td>\n",
       "      <td>1050.0</td>\n",
       "      <td>730</td>\n",
       "      <td>1960</td>\n",
       "      <td>0</td>\n",
       "      <td>98146</td>\n",
       "      <td>47.5123</td>\n",
       "      <td>-122.337</td>\n",
       "      <td>1780</td>\n",
       "      <td>8113</td>\n",
       "    </tr>\n",
       "    <tr>\n",
       "      <th>9</th>\n",
       "      <td>3793500160</td>\n",
       "      <td>2015-03-12</td>\n",
       "      <td>323000.0</td>\n",
       "      <td>3</td>\n",
       "      <td>2.5</td>\n",
       "      <td>1890</td>\n",
       "      <td>6560</td>\n",
       "      <td>2.0</td>\n",
       "      <td>0</td>\n",
       "      <td>0</td>\n",
       "      <td>3</td>\n",
       "      <td>7</td>\n",
       "      <td>1890.0</td>\n",
       "      <td>0</td>\n",
       "      <td>2003</td>\n",
       "      <td>0</td>\n",
       "      <td>98038</td>\n",
       "      <td>47.3684</td>\n",
       "      <td>-122.031</td>\n",
       "      <td>2390</td>\n",
       "      <td>7570</td>\n",
       "    </tr>\n",
       "    <tr>\n",
       "      <th>10</th>\n",
       "      <td>1736800520</td>\n",
       "      <td>2015-04-03</td>\n",
       "      <td>662500.0</td>\n",
       "      <td>3</td>\n",
       "      <td>2.5</td>\n",
       "      <td>3560</td>\n",
       "      <td>9796</td>\n",
       "      <td>1.0</td>\n",
       "      <td>0</td>\n",
       "      <td>0</td>\n",
       "      <td>3</td>\n",
       "      <td>8</td>\n",
       "      <td>NaN</td>\n",
       "      <td>1700</td>\n",
       "      <td>1965</td>\n",
       "      <td>0</td>\n",
       "      <td>98007</td>\n",
       "      <td>47.6007</td>\n",
       "      <td>-122.145</td>\n",
       "      <td>2210</td>\n",
       "      <td>8925</td>\n",
       "    </tr>\n",
       "    <tr>\n",
       "      <th>11</th>\n",
       "      <td>9212900260</td>\n",
       "      <td>2014-05-27</td>\n",
       "      <td>468000.0</td>\n",
       "      <td>2</td>\n",
       "      <td>1.0</td>\n",
       "      <td>1160</td>\n",
       "      <td>6000</td>\n",
       "      <td>1.0</td>\n",
       "      <td>0</td>\n",
       "      <td>0</td>\n",
       "      <td>4</td>\n",
       "      <td>7</td>\n",
       "      <td>860.0</td>\n",
       "      <td>300</td>\n",
       "      <td>1942</td>\n",
       "      <td>0</td>\n",
       "      <td>98115</td>\n",
       "      <td>47.6900</td>\n",
       "      <td>-122.292</td>\n",
       "      <td>1330</td>\n",
       "      <td>6000</td>\n",
       "    </tr>\n",
       "    <tr>\n",
       "      <th>12</th>\n",
       "      <td>114101516</td>\n",
       "      <td>2014-05-28</td>\n",
       "      <td>310000.0</td>\n",
       "      <td>3</td>\n",
       "      <td>1.0</td>\n",
       "      <td>1430</td>\n",
       "      <td>19901</td>\n",
       "      <td>1.5</td>\n",
       "      <td>0</td>\n",
       "      <td>0</td>\n",
       "      <td>4</td>\n",
       "      <td>7</td>\n",
       "      <td>1430.0</td>\n",
       "      <td>0</td>\n",
       "      <td>1927</td>\n",
       "      <td>0</td>\n",
       "      <td>98028</td>\n",
       "      <td>47.7558</td>\n",
       "      <td>-122.229</td>\n",
       "      <td>1780</td>\n",
       "      <td>12697</td>\n",
       "    </tr>\n",
       "  </tbody>\n",
       "</table>\n",
       "</div>"
      ],
      "text/plain": [
       "            id       date     price  bedrooms  bathrooms  sqft_living  \\\n",
       "8   2414600126 2015-04-15  229500.0         3        1.0         1780   \n",
       "9   3793500160 2015-03-12  323000.0         3        2.5         1890   \n",
       "10  1736800520 2015-04-03  662500.0         3        2.5         3560   \n",
       "11  9212900260 2014-05-27  468000.0         2        1.0         1160   \n",
       "12   114101516 2014-05-28  310000.0         3        1.0         1430   \n",
       "\n",
       "    sqft_lot  floors  waterfront  view  condition  grade  sqft_above  \\\n",
       "8       7470     1.0           0     0          3      7      1050.0   \n",
       "9       6560     2.0           0     0          3      7      1890.0   \n",
       "10      9796     1.0           0     0          3      8         NaN   \n",
       "11      6000     1.0           0     0          4      7       860.0   \n",
       "12     19901     1.5           0     0          4      7      1430.0   \n",
       "\n",
       "    sqft_basement  yr_built  yr_renovated  zipcode      lat     long  \\\n",
       "8             730      1960             0    98146  47.5123 -122.337   \n",
       "9               0      2003             0    98038  47.3684 -122.031   \n",
       "10           1700      1965             0    98007  47.6007 -122.145   \n",
       "11            300      1942             0    98115  47.6900 -122.292   \n",
       "12              0      1927             0    98028  47.7558 -122.229   \n",
       "\n",
       "    sqft_living15  sqft_lot15  \n",
       "8            1780        8113  \n",
       "9            2390        7570  \n",
       "10           2210        8925  \n",
       "11           1330        6000  \n",
       "12           1780       12697  "
      ]
     },
     "execution_count": 10,
     "metadata": {},
     "output_type": "execute_result"
    }
   ],
   "source": [
    "#Menampilkan data pada id 10 dan sekitarnya untuk dianalisis\n",
    "houses.loc[[8,9,10,11,12]]"
   ]
  },
  {
   "cell_type": "code",
   "execution_count": 11,
   "metadata": {},
   "outputs": [
    {
     "data": {
      "text/plain": [
       "1780.0"
      ]
     },
     "execution_count": 11,
     "metadata": {},
     "output_type": "execute_result"
    }
   ],
   "source": [
    "#Handling null data dengan ID 10, dengan 'grade' = 8. \n",
    "#Mencari nilai median untuk data dengan 'grade' = 8\n",
    "median10 = houses[houses['grade'] == 8]['sqft_above'].median()\n",
    "median10"
   ]
  },
  {
   "cell_type": "code",
   "execution_count": 12,
   "metadata": {},
   "outputs": [],
   "source": [
    "#Memasukkan nilai dari median grade = 8, ke data yang null pada ID 10\n",
    "houses.loc[10] = houses.loc[10].fillna(median10)"
   ]
  },
  {
   "cell_type": "code",
   "execution_count": 13,
   "metadata": {},
   "outputs": [
    {
     "data": {
      "text/html": [
       "<div>\n",
       "<style scoped>\n",
       "    .dataframe tbody tr th:only-of-type {\n",
       "        vertical-align: middle;\n",
       "    }\n",
       "\n",
       "    .dataframe tbody tr th {\n",
       "        vertical-align: top;\n",
       "    }\n",
       "\n",
       "    .dataframe thead th {\n",
       "        text-align: right;\n",
       "    }\n",
       "</style>\n",
       "<table border=\"1\" class=\"dataframe\">\n",
       "  <thead>\n",
       "    <tr style=\"text-align: right;\">\n",
       "      <th></th>\n",
       "      <th>id</th>\n",
       "      <th>date</th>\n",
       "      <th>price</th>\n",
       "      <th>bedrooms</th>\n",
       "      <th>bathrooms</th>\n",
       "      <th>sqft_living</th>\n",
       "      <th>sqft_lot</th>\n",
       "      <th>floors</th>\n",
       "      <th>waterfront</th>\n",
       "      <th>view</th>\n",
       "      <th>condition</th>\n",
       "      <th>grade</th>\n",
       "      <th>sqft_above</th>\n",
       "      <th>sqft_basement</th>\n",
       "      <th>yr_built</th>\n",
       "      <th>yr_renovated</th>\n",
       "      <th>zipcode</th>\n",
       "      <th>lat</th>\n",
       "      <th>long</th>\n",
       "      <th>sqft_living15</th>\n",
       "      <th>sqft_lot15</th>\n",
       "    </tr>\n",
       "  </thead>\n",
       "  <tbody>\n",
       "    <tr>\n",
       "      <th>8</th>\n",
       "      <td>2414600126</td>\n",
       "      <td>2015-04-15</td>\n",
       "      <td>229500.0</td>\n",
       "      <td>3</td>\n",
       "      <td>1.0</td>\n",
       "      <td>1780</td>\n",
       "      <td>7470</td>\n",
       "      <td>1.0</td>\n",
       "      <td>0</td>\n",
       "      <td>0</td>\n",
       "      <td>3</td>\n",
       "      <td>7</td>\n",
       "      <td>1050.0</td>\n",
       "      <td>730</td>\n",
       "      <td>1960</td>\n",
       "      <td>0</td>\n",
       "      <td>98146</td>\n",
       "      <td>47.5123</td>\n",
       "      <td>-122.337</td>\n",
       "      <td>1780</td>\n",
       "      <td>8113</td>\n",
       "    </tr>\n",
       "    <tr>\n",
       "      <th>9</th>\n",
       "      <td>3793500160</td>\n",
       "      <td>2015-03-12</td>\n",
       "      <td>323000.0</td>\n",
       "      <td>3</td>\n",
       "      <td>2.5</td>\n",
       "      <td>1890</td>\n",
       "      <td>6560</td>\n",
       "      <td>2.0</td>\n",
       "      <td>0</td>\n",
       "      <td>0</td>\n",
       "      <td>3</td>\n",
       "      <td>7</td>\n",
       "      <td>1890.0</td>\n",
       "      <td>0</td>\n",
       "      <td>2003</td>\n",
       "      <td>0</td>\n",
       "      <td>98038</td>\n",
       "      <td>47.3684</td>\n",
       "      <td>-122.031</td>\n",
       "      <td>2390</td>\n",
       "      <td>7570</td>\n",
       "    </tr>\n",
       "    <tr>\n",
       "      <th>10</th>\n",
       "      <td>1736800520</td>\n",
       "      <td>2015-04-03</td>\n",
       "      <td>662500.0</td>\n",
       "      <td>3</td>\n",
       "      <td>2.5</td>\n",
       "      <td>3560</td>\n",
       "      <td>9796</td>\n",
       "      <td>1.0</td>\n",
       "      <td>0</td>\n",
       "      <td>0</td>\n",
       "      <td>3</td>\n",
       "      <td>8</td>\n",
       "      <td>1780.0</td>\n",
       "      <td>1700</td>\n",
       "      <td>1965</td>\n",
       "      <td>0</td>\n",
       "      <td>98007</td>\n",
       "      <td>47.6007</td>\n",
       "      <td>-122.145</td>\n",
       "      <td>2210</td>\n",
       "      <td>8925</td>\n",
       "    </tr>\n",
       "    <tr>\n",
       "      <th>11</th>\n",
       "      <td>9212900260</td>\n",
       "      <td>2014-05-27</td>\n",
       "      <td>468000.0</td>\n",
       "      <td>2</td>\n",
       "      <td>1.0</td>\n",
       "      <td>1160</td>\n",
       "      <td>6000</td>\n",
       "      <td>1.0</td>\n",
       "      <td>0</td>\n",
       "      <td>0</td>\n",
       "      <td>4</td>\n",
       "      <td>7</td>\n",
       "      <td>860.0</td>\n",
       "      <td>300</td>\n",
       "      <td>1942</td>\n",
       "      <td>0</td>\n",
       "      <td>98115</td>\n",
       "      <td>47.6900</td>\n",
       "      <td>-122.292</td>\n",
       "      <td>1330</td>\n",
       "      <td>6000</td>\n",
       "    </tr>\n",
       "    <tr>\n",
       "      <th>12</th>\n",
       "      <td>114101516</td>\n",
       "      <td>2014-05-28</td>\n",
       "      <td>310000.0</td>\n",
       "      <td>3</td>\n",
       "      <td>1.0</td>\n",
       "      <td>1430</td>\n",
       "      <td>19901</td>\n",
       "      <td>1.5</td>\n",
       "      <td>0</td>\n",
       "      <td>0</td>\n",
       "      <td>4</td>\n",
       "      <td>7</td>\n",
       "      <td>1430.0</td>\n",
       "      <td>0</td>\n",
       "      <td>1927</td>\n",
       "      <td>0</td>\n",
       "      <td>98028</td>\n",
       "      <td>47.7558</td>\n",
       "      <td>-122.229</td>\n",
       "      <td>1780</td>\n",
       "      <td>12697</td>\n",
       "    </tr>\n",
       "  </tbody>\n",
       "</table>\n",
       "</div>"
      ],
      "text/plain": [
       "            id       date     price  bedrooms  bathrooms  sqft_living  \\\n",
       "8   2414600126 2015-04-15  229500.0         3        1.0         1780   \n",
       "9   3793500160 2015-03-12  323000.0         3        2.5         1890   \n",
       "10  1736800520 2015-04-03  662500.0         3        2.5         3560   \n",
       "11  9212900260 2014-05-27  468000.0         2        1.0         1160   \n",
       "12   114101516 2014-05-28  310000.0         3        1.0         1430   \n",
       "\n",
       "    sqft_lot  floors  waterfront  view  condition  grade  sqft_above  \\\n",
       "8       7470     1.0           0     0          3      7      1050.0   \n",
       "9       6560     2.0           0     0          3      7      1890.0   \n",
       "10      9796     1.0           0     0          3      8      1780.0   \n",
       "11      6000     1.0           0     0          4      7       860.0   \n",
       "12     19901     1.5           0     0          4      7      1430.0   \n",
       "\n",
       "    sqft_basement  yr_built  yr_renovated  zipcode      lat     long  \\\n",
       "8             730      1960             0    98146  47.5123 -122.337   \n",
       "9               0      2003             0    98038  47.3684 -122.031   \n",
       "10           1700      1965             0    98007  47.6007 -122.145   \n",
       "11            300      1942             0    98115  47.6900 -122.292   \n",
       "12              0      1927             0    98028  47.7558 -122.229   \n",
       "\n",
       "    sqft_living15  sqft_lot15  \n",
       "8            1780        8113  \n",
       "9            2390        7570  \n",
       "10           2210        8925  \n",
       "11           1330        6000  \n",
       "12           1780       12697  "
      ]
     },
     "execution_count": 13,
     "metadata": {},
     "output_type": "execute_result"
    }
   ],
   "source": [
    "houses.loc[[8,9,10,11,12]]"
   ]
  },
  {
   "cell_type": "code",
   "execution_count": 14,
   "metadata": {},
   "outputs": [
    {
     "data": {
      "text/html": [
       "<div>\n",
       "<style scoped>\n",
       "    .dataframe tbody tr th:only-of-type {\n",
       "        vertical-align: middle;\n",
       "    }\n",
       "\n",
       "    .dataframe tbody tr th {\n",
       "        vertical-align: top;\n",
       "    }\n",
       "\n",
       "    .dataframe thead th {\n",
       "        text-align: right;\n",
       "    }\n",
       "</style>\n",
       "<table border=\"1\" class=\"dataframe\">\n",
       "  <thead>\n",
       "    <tr style=\"text-align: right;\">\n",
       "      <th></th>\n",
       "      <th>id</th>\n",
       "      <th>date</th>\n",
       "      <th>price</th>\n",
       "      <th>bedrooms</th>\n",
       "      <th>bathrooms</th>\n",
       "      <th>sqft_living</th>\n",
       "      <th>sqft_lot</th>\n",
       "      <th>floors</th>\n",
       "      <th>waterfront</th>\n",
       "      <th>view</th>\n",
       "      <th>condition</th>\n",
       "      <th>grade</th>\n",
       "      <th>sqft_above</th>\n",
       "      <th>sqft_basement</th>\n",
       "      <th>yr_built</th>\n",
       "      <th>yr_renovated</th>\n",
       "      <th>zipcode</th>\n",
       "      <th>lat</th>\n",
       "      <th>long</th>\n",
       "      <th>sqft_living15</th>\n",
       "      <th>sqft_lot15</th>\n",
       "    </tr>\n",
       "  </thead>\n",
       "  <tbody>\n",
       "    <tr>\n",
       "      <th>15</th>\n",
       "      <td>9297300055</td>\n",
       "      <td>2015-01-24</td>\n",
       "      <td>650000.0</td>\n",
       "      <td>4</td>\n",
       "      <td>3.0</td>\n",
       "      <td>2950</td>\n",
       "      <td>5000</td>\n",
       "      <td>2.0</td>\n",
       "      <td>0</td>\n",
       "      <td>3</td>\n",
       "      <td>3</td>\n",
       "      <td>9</td>\n",
       "      <td>1980.0</td>\n",
       "      <td>970</td>\n",
       "      <td>1979</td>\n",
       "      <td>0</td>\n",
       "      <td>98126</td>\n",
       "      <td>47.5714</td>\n",
       "      <td>-122.375</td>\n",
       "      <td>2140</td>\n",
       "      <td>4000</td>\n",
       "    </tr>\n",
       "    <tr>\n",
       "      <th>16</th>\n",
       "      <td>1875500060</td>\n",
       "      <td>2014-07-31</td>\n",
       "      <td>395000.0</td>\n",
       "      <td>3</td>\n",
       "      <td>2.0</td>\n",
       "      <td>1890</td>\n",
       "      <td>14040</td>\n",
       "      <td>2.0</td>\n",
       "      <td>0</td>\n",
       "      <td>0</td>\n",
       "      <td>3</td>\n",
       "      <td>7</td>\n",
       "      <td>1890.0</td>\n",
       "      <td>0</td>\n",
       "      <td>1994</td>\n",
       "      <td>0</td>\n",
       "      <td>98019</td>\n",
       "      <td>47.7277</td>\n",
       "      <td>-121.962</td>\n",
       "      <td>1890</td>\n",
       "      <td>14018</td>\n",
       "    </tr>\n",
       "    <tr>\n",
       "      <th>17</th>\n",
       "      <td>6865200140</td>\n",
       "      <td>2014-05-29</td>\n",
       "      <td>485000.0</td>\n",
       "      <td>4</td>\n",
       "      <td>1.0</td>\n",
       "      <td>1600</td>\n",
       "      <td>4300</td>\n",
       "      <td>1.5</td>\n",
       "      <td>0</td>\n",
       "      <td>0</td>\n",
       "      <td>4</td>\n",
       "      <td>7</td>\n",
       "      <td>NaN</td>\n",
       "      <td>0</td>\n",
       "      <td>1916</td>\n",
       "      <td>0</td>\n",
       "      <td>98103</td>\n",
       "      <td>47.6648</td>\n",
       "      <td>-122.343</td>\n",
       "      <td>1610</td>\n",
       "      <td>4300</td>\n",
       "    </tr>\n",
       "    <tr>\n",
       "      <th>18</th>\n",
       "      <td>16000397</td>\n",
       "      <td>2014-12-05</td>\n",
       "      <td>189000.0</td>\n",
       "      <td>2</td>\n",
       "      <td>1.0</td>\n",
       "      <td>1200</td>\n",
       "      <td>9850</td>\n",
       "      <td>1.0</td>\n",
       "      <td>0</td>\n",
       "      <td>0</td>\n",
       "      <td>4</td>\n",
       "      <td>7</td>\n",
       "      <td>1200.0</td>\n",
       "      <td>0</td>\n",
       "      <td>1921</td>\n",
       "      <td>0</td>\n",
       "      <td>98002</td>\n",
       "      <td>47.3089</td>\n",
       "      <td>-122.210</td>\n",
       "      <td>1060</td>\n",
       "      <td>5095</td>\n",
       "    </tr>\n",
       "    <tr>\n",
       "      <th>19</th>\n",
       "      <td>7983200060</td>\n",
       "      <td>2015-04-24</td>\n",
       "      <td>230000.0</td>\n",
       "      <td>3</td>\n",
       "      <td>1.0</td>\n",
       "      <td>1250</td>\n",
       "      <td>9774</td>\n",
       "      <td>1.0</td>\n",
       "      <td>0</td>\n",
       "      <td>0</td>\n",
       "      <td>4</td>\n",
       "      <td>7</td>\n",
       "      <td>1250.0</td>\n",
       "      <td>0</td>\n",
       "      <td>1969</td>\n",
       "      <td>0</td>\n",
       "      <td>98003</td>\n",
       "      <td>47.3343</td>\n",
       "      <td>-122.306</td>\n",
       "      <td>1280</td>\n",
       "      <td>8850</td>\n",
       "    </tr>\n",
       "  </tbody>\n",
       "</table>\n",
       "</div>"
      ],
      "text/plain": [
       "            id       date     price  bedrooms  bathrooms  sqft_living  \\\n",
       "15  9297300055 2015-01-24  650000.0         4        3.0         2950   \n",
       "16  1875500060 2014-07-31  395000.0         3        2.0         1890   \n",
       "17  6865200140 2014-05-29  485000.0         4        1.0         1600   \n",
       "18    16000397 2014-12-05  189000.0         2        1.0         1200   \n",
       "19  7983200060 2015-04-24  230000.0         3        1.0         1250   \n",
       "\n",
       "    sqft_lot  floors  waterfront  view  condition  grade  sqft_above  \\\n",
       "15      5000     2.0           0     3          3      9      1980.0   \n",
       "16     14040     2.0           0     0          3      7      1890.0   \n",
       "17      4300     1.5           0     0          4      7         NaN   \n",
       "18      9850     1.0           0     0          4      7      1200.0   \n",
       "19      9774     1.0           0     0          4      7      1250.0   \n",
       "\n",
       "    sqft_basement  yr_built  yr_renovated  zipcode      lat     long  \\\n",
       "15            970      1979             0    98126  47.5714 -122.375   \n",
       "16              0      1994             0    98019  47.7277 -121.962   \n",
       "17              0      1916             0    98103  47.6648 -122.343   \n",
       "18              0      1921             0    98002  47.3089 -122.210   \n",
       "19              0      1969             0    98003  47.3343 -122.306   \n",
       "\n",
       "    sqft_living15  sqft_lot15  \n",
       "15           2140        4000  \n",
       "16           1890       14018  \n",
       "17           1610        4300  \n",
       "18           1060        5095  \n",
       "19           1280        8850  "
      ]
     },
     "execution_count": 14,
     "metadata": {},
     "output_type": "execute_result"
    }
   ],
   "source": [
    "#Menampilkan data pada id 17 dan sekitarnya untuk dianalisis\n",
    "houses.loc[[15,16,17,18,19]]"
   ]
  },
  {
   "cell_type": "code",
   "execution_count": 15,
   "metadata": {},
   "outputs": [
    {
     "data": {
      "text/plain": [
       "1320.0"
      ]
     },
     "execution_count": 15,
     "metadata": {},
     "output_type": "execute_result"
    }
   ],
   "source": [
    "#Handling null data dengan ID 17, dengan 'grade' = 7. \n",
    "#Mencari nilai median untuk data dengan 'grade' = 7\n",
    "median17 = houses[houses['grade'] == 7]['sqft_above'].median()\n",
    "median17"
   ]
  },
  {
   "cell_type": "code",
   "execution_count": 16,
   "metadata": {},
   "outputs": [],
   "source": [
    "\n",
    "#Memasukkan nilai dari median grade = 7, ke data yang null pada ID 17\n",
    "houses.loc[17] = houses.loc[17].fillna(median17)"
   ]
  },
  {
   "cell_type": "code",
   "execution_count": 17,
   "metadata": {},
   "outputs": [
    {
     "data": {
      "text/html": [
       "<div>\n",
       "<style scoped>\n",
       "    .dataframe tbody tr th:only-of-type {\n",
       "        vertical-align: middle;\n",
       "    }\n",
       "\n",
       "    .dataframe tbody tr th {\n",
       "        vertical-align: top;\n",
       "    }\n",
       "\n",
       "    .dataframe thead th {\n",
       "        text-align: right;\n",
       "    }\n",
       "</style>\n",
       "<table border=\"1\" class=\"dataframe\">\n",
       "  <thead>\n",
       "    <tr style=\"text-align: right;\">\n",
       "      <th></th>\n",
       "      <th>id</th>\n",
       "      <th>date</th>\n",
       "      <th>price</th>\n",
       "      <th>bedrooms</th>\n",
       "      <th>bathrooms</th>\n",
       "      <th>sqft_living</th>\n",
       "      <th>sqft_lot</th>\n",
       "      <th>floors</th>\n",
       "      <th>waterfront</th>\n",
       "      <th>view</th>\n",
       "      <th>condition</th>\n",
       "      <th>grade</th>\n",
       "      <th>sqft_above</th>\n",
       "      <th>sqft_basement</th>\n",
       "      <th>yr_built</th>\n",
       "      <th>yr_renovated</th>\n",
       "      <th>zipcode</th>\n",
       "      <th>lat</th>\n",
       "      <th>long</th>\n",
       "      <th>sqft_living15</th>\n",
       "      <th>sqft_lot15</th>\n",
       "    </tr>\n",
       "  </thead>\n",
       "  <tbody>\n",
       "    <tr>\n",
       "      <th>15</th>\n",
       "      <td>9297300055</td>\n",
       "      <td>2015-01-24</td>\n",
       "      <td>650000.0</td>\n",
       "      <td>4</td>\n",
       "      <td>3.0</td>\n",
       "      <td>2950</td>\n",
       "      <td>5000</td>\n",
       "      <td>2.0</td>\n",
       "      <td>0</td>\n",
       "      <td>3</td>\n",
       "      <td>3</td>\n",
       "      <td>9</td>\n",
       "      <td>1980.0</td>\n",
       "      <td>970</td>\n",
       "      <td>1979</td>\n",
       "      <td>0</td>\n",
       "      <td>98126</td>\n",
       "      <td>47.5714</td>\n",
       "      <td>-122.375</td>\n",
       "      <td>2140</td>\n",
       "      <td>4000</td>\n",
       "    </tr>\n",
       "    <tr>\n",
       "      <th>16</th>\n",
       "      <td>1875500060</td>\n",
       "      <td>2014-07-31</td>\n",
       "      <td>395000.0</td>\n",
       "      <td>3</td>\n",
       "      <td>2.0</td>\n",
       "      <td>1890</td>\n",
       "      <td>14040</td>\n",
       "      <td>2.0</td>\n",
       "      <td>0</td>\n",
       "      <td>0</td>\n",
       "      <td>3</td>\n",
       "      <td>7</td>\n",
       "      <td>1890.0</td>\n",
       "      <td>0</td>\n",
       "      <td>1994</td>\n",
       "      <td>0</td>\n",
       "      <td>98019</td>\n",
       "      <td>47.7277</td>\n",
       "      <td>-121.962</td>\n",
       "      <td>1890</td>\n",
       "      <td>14018</td>\n",
       "    </tr>\n",
       "    <tr>\n",
       "      <th>17</th>\n",
       "      <td>6865200140</td>\n",
       "      <td>2014-05-29</td>\n",
       "      <td>485000.0</td>\n",
       "      <td>4</td>\n",
       "      <td>1.0</td>\n",
       "      <td>1600</td>\n",
       "      <td>4300</td>\n",
       "      <td>1.5</td>\n",
       "      <td>0</td>\n",
       "      <td>0</td>\n",
       "      <td>4</td>\n",
       "      <td>7</td>\n",
       "      <td>1320.0</td>\n",
       "      <td>0</td>\n",
       "      <td>1916</td>\n",
       "      <td>0</td>\n",
       "      <td>98103</td>\n",
       "      <td>47.6648</td>\n",
       "      <td>-122.343</td>\n",
       "      <td>1610</td>\n",
       "      <td>4300</td>\n",
       "    </tr>\n",
       "    <tr>\n",
       "      <th>18</th>\n",
       "      <td>16000397</td>\n",
       "      <td>2014-12-05</td>\n",
       "      <td>189000.0</td>\n",
       "      <td>2</td>\n",
       "      <td>1.0</td>\n",
       "      <td>1200</td>\n",
       "      <td>9850</td>\n",
       "      <td>1.0</td>\n",
       "      <td>0</td>\n",
       "      <td>0</td>\n",
       "      <td>4</td>\n",
       "      <td>7</td>\n",
       "      <td>1200.0</td>\n",
       "      <td>0</td>\n",
       "      <td>1921</td>\n",
       "      <td>0</td>\n",
       "      <td>98002</td>\n",
       "      <td>47.3089</td>\n",
       "      <td>-122.210</td>\n",
       "      <td>1060</td>\n",
       "      <td>5095</td>\n",
       "    </tr>\n",
       "    <tr>\n",
       "      <th>19</th>\n",
       "      <td>7983200060</td>\n",
       "      <td>2015-04-24</td>\n",
       "      <td>230000.0</td>\n",
       "      <td>3</td>\n",
       "      <td>1.0</td>\n",
       "      <td>1250</td>\n",
       "      <td>9774</td>\n",
       "      <td>1.0</td>\n",
       "      <td>0</td>\n",
       "      <td>0</td>\n",
       "      <td>4</td>\n",
       "      <td>7</td>\n",
       "      <td>1250.0</td>\n",
       "      <td>0</td>\n",
       "      <td>1969</td>\n",
       "      <td>0</td>\n",
       "      <td>98003</td>\n",
       "      <td>47.3343</td>\n",
       "      <td>-122.306</td>\n",
       "      <td>1280</td>\n",
       "      <td>8850</td>\n",
       "    </tr>\n",
       "  </tbody>\n",
       "</table>\n",
       "</div>"
      ],
      "text/plain": [
       "            id       date     price  bedrooms  bathrooms  sqft_living  \\\n",
       "15  9297300055 2015-01-24  650000.0         4        3.0         2950   \n",
       "16  1875500060 2014-07-31  395000.0         3        2.0         1890   \n",
       "17  6865200140 2014-05-29  485000.0         4        1.0         1600   \n",
       "18    16000397 2014-12-05  189000.0         2        1.0         1200   \n",
       "19  7983200060 2015-04-24  230000.0         3        1.0         1250   \n",
       "\n",
       "    sqft_lot  floors  waterfront  view  condition  grade  sqft_above  \\\n",
       "15      5000     2.0           0     3          3      9      1980.0   \n",
       "16     14040     2.0           0     0          3      7      1890.0   \n",
       "17      4300     1.5           0     0          4      7      1320.0   \n",
       "18      9850     1.0           0     0          4      7      1200.0   \n",
       "19      9774     1.0           0     0          4      7      1250.0   \n",
       "\n",
       "    sqft_basement  yr_built  yr_renovated  zipcode      lat     long  \\\n",
       "15            970      1979             0    98126  47.5714 -122.375   \n",
       "16              0      1994             0    98019  47.7277 -121.962   \n",
       "17              0      1916             0    98103  47.6648 -122.343   \n",
       "18              0      1921             0    98002  47.3089 -122.210   \n",
       "19              0      1969             0    98003  47.3343 -122.306   \n",
       "\n",
       "    sqft_living15  sqft_lot15  \n",
       "15           2140        4000  \n",
       "16           1890       14018  \n",
       "17           1610        4300  \n",
       "18           1060        5095  \n",
       "19           1280        8850  "
      ]
     },
     "execution_count": 17,
     "metadata": {},
     "output_type": "execute_result"
    }
   ],
   "source": [
    "houses.loc[[15,16,17,18,19]]"
   ]
  },
  {
   "cell_type": "code",
   "execution_count": 18,
   "metadata": {},
   "outputs": [
    {
     "data": {
      "text/plain": [
       "id               0\n",
       "date             0\n",
       "price            0\n",
       "bedrooms         0\n",
       "bathrooms        0\n",
       "sqft_living      0\n",
       "sqft_lot         0\n",
       "floors           0\n",
       "waterfront       0\n",
       "view             0\n",
       "condition        0\n",
       "grade            0\n",
       "sqft_above       0\n",
       "sqft_basement    0\n",
       "yr_built         0\n",
       "yr_renovated     0\n",
       "zipcode          0\n",
       "lat              0\n",
       "long             0\n",
       "sqft_living15    0\n",
       "sqft_lot15       0\n",
       "dtype: int64"
      ]
     },
     "execution_count": 18,
     "metadata": {},
     "output_type": "execute_result"
    }
   ],
   "source": [
    "#Cek hasil dari null data \n",
    "houses.isnull().sum()"
   ]
  },
  {
   "attachments": {},
   "cell_type": "markdown",
   "metadata": {},
   "source": [
    "#### Analisis dan Perhitungan"
   ]
  },
  {
   "attachments": {},
   "cell_type": "markdown",
   "metadata": {},
   "source": [
    "##### 1. Apa faktor-faktor yang mempengaruhi harga perumahan?"
   ]
  },
  {
   "cell_type": "code",
   "execution_count": 21,
   "metadata": {},
   "outputs": [
    {
     "data": {
      "text/plain": [
       "Midle Price        5460\n",
       "Low Price          5404\n",
       "High Price         5376\n",
       "Very High Price    5373\n",
       "Name: kategori, dtype: int64"
      ]
     },
     "execution_count": 21,
     "metadata": {},
     "output_type": "execute_result"
    }
   ],
   "source": [
    "#Mengkategorikan harga rumah menjadi 4 bagian dengan fungsi qcut\n",
    "houses['kategori'] = pd.qcut(houses['price'], q=4, labels=['Low Price', 'Midle Price', 'High Price', 'Very High Price'])\n",
    "houses['kategori'].value_counts()"
   ]
  },
  {
   "cell_type": "code",
   "execution_count": 22,
   "metadata": {},
   "outputs": [],
   "source": [
    "#Menganalisa faktor harga rumah berdasarkan pengelompokannya\n",
    "housesHighPrice = houses[houses['kategori'] == 'Very High Price']\n",
    "housesMidlePrice = houses[houses['kategori'] == 'Midle Price']\n",
    "housesLowPrice = houses[houses['kategori'] == 'Low Price']"
   ]
  },
  {
   "cell_type": "code",
   "execution_count": 23,
   "metadata": {},
   "outputs": [
    {
     "data": {
      "text/plain": [
       "0    5238\n",
       "1     135\n",
       "Name: waterfront, dtype: int64"
      ]
     },
     "execution_count": 23,
     "metadata": {},
     "output_type": "execute_result"
    }
   ],
   "source": [
    "#Menampilkan kondisi dari 'waterfront' / view keperairan pada rumah harga termahal\n",
    "housesHighPrice['waterfront'].value_counts() "
   ]
  },
  {
   "cell_type": "code",
   "execution_count": 24,
   "metadata": {},
   "outputs": [
    {
     "data": {
      "text/plain": [
       "0    5402\n",
       "1       2\n",
       "Name: waterfront, dtype: int64"
      ]
     },
     "execution_count": 24,
     "metadata": {},
     "output_type": "execute_result"
    }
   ],
   "source": [
    "#Menampilkan kondisi dari 'waterfront' / view keperairan pada rumah harga termurah\n",
    "housesLowPrice['waterfront'].value_counts()"
   ]
  },
  {
   "attachments": {},
   "cell_type": "markdown",
   "metadata": {},
   "source": [
    "Berdasarkan perhitungan waterfront nya, **rumah mahal memiliki view perairan lebih banyak di banding rumah murah.**\n",
    "\n",
    "Note : waterfront 1 True, 0 False"
   ]
  },
  {
   "cell_type": "code",
   "execution_count": 26,
   "metadata": {},
   "outputs": [
    {
     "data": {
      "text/plain": [
       "21361.0"
      ]
     },
     "execution_count": 26,
     "metadata": {},
     "output_type": "execute_result"
    }
   ],
   "source": [
    "#Menghitung nilai rata-rata luas tanah pada rumah mahal\n",
    "housesHighPrice['sqft_lot'].mean().round()"
   ]
  },
  {
   "cell_type": "code",
   "execution_count": 27,
   "metadata": {},
   "outputs": [
    {
     "data": {
      "text/plain": [
       "10464.0"
      ]
     },
     "execution_count": 27,
     "metadata": {},
     "output_type": "execute_result"
    }
   ],
   "source": [
    "#Menghitung nilai rata-rata luas tanah pada rumah murah\n",
    "housesLowPrice['sqft_lot'].mean().round()"
   ]
  },
  {
   "attachments": {},
   "cell_type": "markdown",
   "metadata": {},
   "source": [
    "Berdasarkan perhitungan '**sqft_lot**' / luas tanah pada masing-masing rumah.\n",
    "Rumah dengan kategori mahal memiliki tanah yang lebih luas **21361 square ft.** dibandingkan dengan rumah dengan harga murah **10464 square ft.**"
   ]
  },
  {
   "cell_type": "code",
   "execution_count": 33,
   "metadata": {},
   "outputs": [
    {
     "data": {
      "text/plain": [
       "3    3027\n",
       "4    1033\n",
       "2    1030\n",
       "5     158\n",
       "1     116\n",
       "6      29\n",
       "0       8\n",
       "7       3\n",
       "Name: bedrooms, dtype: int64"
      ]
     },
     "execution_count": 33,
     "metadata": {},
     "output_type": "execute_result"
    }
   ],
   "source": [
    "#Menghitung perbandingan jumlah kamar yang ada pada rumah murah\n",
    "housesLowPrice['bedrooms'].value_counts()"
   ]
  },
  {
   "cell_type": "code",
   "execution_count": 32,
   "metadata": {},
   "outputs": [
    {
     "data": {
      "text/plain": [
       "4     2581\n",
       "3     1613\n",
       "5      757\n",
       "2      240\n",
       "6      139\n",
       "7       20\n",
       "8        8\n",
       "1        6\n",
       "9        4\n",
       "10       3\n",
       "0        2\n",
       "Name: bedrooms, dtype: int64"
      ]
     },
     "execution_count": 32,
     "metadata": {},
     "output_type": "execute_result"
    }
   ],
   "source": [
    "#Menghitung perbandingan jumlah kamar yang ada pada rumah mahal\n",
    "housesHighPrice['bedrooms'].value_counts()"
   ]
  },
  {
   "cell_type": "code",
   "execution_count": 34,
   "metadata": {},
   "outputs": [],
   "source": [
    "import matplotlib.pyplot as plt\n",
    "import seaborn as sns"
   ]
  },
  {
   "cell_type": "code",
   "execution_count": 122,
   "metadata": {},
   "outputs": [
    {
     "data": {
      "text/plain": [
       "<Axes: ylabel='bedrooms'>"
      ]
     },
     "execution_count": 122,
     "metadata": {},
     "output_type": "execute_result"
    },
    {
     "data": {
      "image/png": "[encoded data removed]",
      "text/plain": [
       "<Figure size 640x480 with 1 Axes>"
      ]
     },
     "metadata": {},
     "output_type": "display_data"
    }
   ],
   "source": [
    "#Menampilkan visualisasi dari kategori rumah mahal\n",
    "housesHighPrice['bedrooms'].value_counts().head().plot(kind='pie', autopct='%.2f')"
   ]
  },
  {
   "attachments": {},
   "cell_type": "markdown",
   "metadata": {},
   "source": [
    "Berdasarkan visualisasi jumlah kamar 4 merupakan jumlah yang paling banyak dimiliki oleh rumah dengan harga mahal"
   ]
  },
  {
   "cell_type": "code",
   "execution_count": 123,
   "metadata": {},
   "outputs": [
    {
     "data": {
      "text/plain": [
       "<Axes: ylabel='bedrooms'>"
      ]
     },
     "execution_count": 123,
     "metadata": {},
     "output_type": "execute_result"
    },
    {
     "data": {
      "image/png": "[encoded data removed]",
      "text/plain": [
       "<Figure size 640x480 with 1 Axes>"
      ]
     },
     "metadata": {},
     "output_type": "display_data"
    }
   ],
   "source": [
    "#Menampilkan visualisasi dari kategori rumah murah\n",
    "housesLowPrice['bedrooms'].value_counts().head().plot(kind='pie', autopct='%.2f')"
   ]
  },
  {
   "attachments": {},
   "cell_type": "markdown",
   "metadata": {},
   "source": [
    "Berdasarkan visualisasi jumlah kamar 3 merupakan jumlah yang paling banyak dimiliki oleh rumah dengan harga murah"
   ]
  },
  {
   "cell_type": "code",
   "execution_count": 39,
   "metadata": {},
   "outputs": [],
   "source": [
    "sns.set_theme()"
   ]
  },
  {
   "attachments": {},
   "cell_type": "markdown",
   "metadata": {},
   "source": [
    "Pada **rumah mahal** biasanya rumah tersebut memiliki ciri **jumlah kamar lebih dari 4**, \n",
    "\n",
    "dan pada **rumah murah** biasanya rumah tersebut memiliki ciri **jumlah kamar lebih dari 3.**\n",
    "\n",
    "Data ini diambil berdasarkan **nilai jumlah kamar yang paling banyak muncul** pada kedua tipe harga rumah."
   ]
  },
  {
   "attachments": {},
   "cell_type": "markdown",
   "metadata": {},
   "source": [
    "Memproses data latitude, longtitude, dan zipcode untuk mendapatkan nama lokasi rumah"
   ]
  },
  {
   "cell_type": "code",
   "execution_count": 51,
   "metadata": {},
   "outputs": [],
   "source": [
    "#Membagi data berdasarkan kategori harga rumah menjadi data sampe untuk dicari lokasi kotanya\n",
    "housesHighPriceSample = housesHighPrice.sort_values('price').head(500)\n",
    "housesMidlePriceSample = housesMidlePrice.sort_values('price').head(500)\n",
    "housesLowPriceSample = housesLowPrice.sort_values('price').head(500)"
   ]
  },
  {
   "cell_type": "code",
   "execution_count": 52,
   "metadata": {},
   "outputs": [],
   "source": [
    "from geopy.geocoders import Nominatim"
   ]
  },
  {
   "cell_type": "code",
   "execution_count": 53,
   "metadata": {},
   "outputs": [
    {
     "name": "stdout",
     "output_type": "stream",
     "text": [
      "       Latitude  Longitude  Kode_Pos         Kota\n",
      "1149    47.2638   -121.906     98022     Enumclaw\n",
      "15293   47.4739   -122.280     98168      Tukwila\n",
      "465     47.6499   -121.909     98014    Carnation\n",
      "16198   47.4808   -122.315     98168       Burien\n",
      "8274    47.4987   -122.341     98146       Burien\n",
      "...         ...        ...       ...          ...\n",
      "10397   47.3686   -122.081     98042    Covington\n",
      "17367   47.4336   -122.197     98055       Renton\n",
      "17123   47.7620   -122.321     98155    Shoreline\n",
      "18908   47.3732   -122.295     98032         Kent\n",
      "579     47.3062   -122.371     98023  Federal Way\n",
      "\n",
      "[500 rows x 4 columns]\n"
     ]
    }
   ],
   "source": [
    "#Mendapatkan nama kota dari kategori harga rumah murah \n",
    "\n",
    "# Membuat DataFrame\n",
    "dfLow = pd.DataFrame({'Latitude': housesLowPriceSample['lat'],\n",
    "                   'Longitude': housesLowPriceSample['long'],\n",
    "                   'Kode_Pos': housesLowPriceSample['zipcode']})\n",
    "\n",
    "# Membuat kolom Kota baru\n",
    "dfLow['Kota'] = None\n",
    "\n",
    "# Inisialisasi geocoder\n",
    "geolocator = Nominatim(user_agent='my_app')\n",
    "\n",
    "# Mendapatkan nama kota berdasarkan latitude, longitude, dan kode pos\n",
    "for index, row in dfLow.iterrows():\n",
    "    location = geolocator.reverse([row['Latitude'], row['Longitude']])\n",
    "    if location:\n",
    "        address = location.raw['address']\n",
    "        if 'town' in address:\n",
    "            dfLow.loc[index, 'Kota'] = address['town']\n",
    "        elif 'city' in address:\n",
    "            dfLow.loc[index, 'Kota'] = address['city']\n",
    "        elif 'village' in address:\n",
    "            dfLow.loc[index, 'Kota'] = address['village']\n",
    "\n",
    "# Menampilkan DataFrame\n",
    "print(dfLow)"
   ]
  },
  {
   "cell_type": "code",
   "execution_count": 54,
   "metadata": {},
   "outputs": [
    {
     "name": "stdout",
     "output_type": "stream",
     "text": [
      "       Latitude  Longitude  Kode_Pos                     Kota\n",
      "15849   47.5066   -122.175     98056                   Renton\n",
      "1993    47.6829   -122.060     98053  Union Hill-Novelty Hill\n",
      "17738   47.5076   -122.173     98056                   Renton\n",
      "2494    47.4476   -121.771     98045                     None\n",
      "13288   47.7035   -122.351     98133                  Seattle\n",
      "...         ...        ...       ...                      ...\n",
      "10631   47.5021   -121.770     98045               North Bend\n",
      "8542    47.4683   -122.348     98166                   Burien\n",
      "21535   47.2815   -122.356     98023              Federal Way\n",
      "7949    47.6223   -122.294     98112                  Seattle\n",
      "2161    47.3524   -122.285     98001                   Auburn\n",
      "\n",
      "[500 rows x 4 columns]\n"
     ]
    }
   ],
   "source": [
    "#Mendapatkan nama kota dari kategori harga rumah menengah \n",
    "\n",
    "# Membuat DataFrame contoh\n",
    "dfMidle = pd.DataFrame({'Latitude': housesMidlePriceSample['lat'],\n",
    "                   'Longitude': housesMidlePriceSample['long'],\n",
    "                   'Kode_Pos': housesMidlePriceSample['zipcode']})\n",
    "\n",
    "# Membuat kolom Kota baru\n",
    "dfMidle['Kota'] = None\n",
    "\n",
    "# Inisialisasi geocoder\n",
    "geolocator = Nominatim(user_agent='my_app')\n",
    "\n",
    "# Mendapatkan nama kota berdasarkan latitude, longitude, dan kode pos\n",
    "for index, row in dfMidle.iterrows():\n",
    "    location = geolocator.reverse([row['Latitude'], row['Longitude']])\n",
    "    if location:\n",
    "        address = location.raw['address']\n",
    "        if 'town' in address:\n",
    "            dfMidle.loc[index, 'Kota'] = address['town']\n",
    "        elif 'city' in address:\n",
    "            dfMidle.loc[index, 'Kota'] = address['city']\n",
    "        elif 'village' in address:\n",
    "            dfMidle.loc[index, 'Kota'] = address['village']\n",
    "\n",
    "# Menampilkan DataFrame\n",
    "print(dfMidle)"
   ]
  },
  {
   "cell_type": "code",
   "execution_count": 55,
   "metadata": {},
   "outputs": [
    {
     "name": "stdout",
     "output_type": "stream",
     "text": [
      "       Latitude  Longitude  Kode_Pos                     Kota\n",
      "17519   47.6786   -122.379     98117                  Seattle\n",
      "18596   47.5394   -121.875     98065               Snoqualmie\n",
      "10388   47.5598   -122.018     98029                Sammamish\n",
      "2555    47.7497   -122.245     98028                  Kenmore\n",
      "10441   47.5615   -122.131     98006                 Bellevue\n",
      "...         ...        ...       ...                      ...\n",
      "17039   47.6406   -122.317     98102                  Seattle\n",
      "2148    47.6726   -122.380     98107                  Seattle\n",
      "14925   47.6472   -122.383     98199                  Seattle\n",
      "12592   47.6811   -122.283     98115                  Seattle\n",
      "6070    47.6798   -122.033     98053  Union Hill-Novelty Hill\n",
      "\n",
      "[500 rows x 4 columns]\n"
     ]
    }
   ],
   "source": [
    "#Mendapatkan nama kota dari kategori harga rumah mahal \n",
    "\n",
    "# Membuat DataFrame contoh\n",
    "dfHigh = pd.DataFrame({'Latitude': housesHighPriceSample['lat'],\n",
    "                   'Longitude': housesHighPriceSample['long'],\n",
    "                   'Kode_Pos': housesHighPriceSample['zipcode']})\n",
    "\n",
    "# Membuat kolom Kota baru\n",
    "dfHigh['Kota'] = None\n",
    "\n",
    "# Inisialisasi geocoder\n",
    "geolocator = Nominatim(user_agent='my_app')\n",
    "\n",
    "# Mendapatkan nama kota berdasarkan latitude, longitude, dan kode pos\n",
    "for index, row in dfHigh.iterrows():\n",
    "    location = geolocator.reverse([row['Latitude'], row['Longitude']])\n",
    "    if location:\n",
    "        address = location.raw['address']\n",
    "        if 'town' in address:\n",
    "            dfHigh.loc[index, 'Kota'] = address['town']\n",
    "        elif 'city' in address:\n",
    "            dfHigh.loc[index, 'Kota'] = address['city']\n",
    "        elif 'village' in address:\n",
    "            dfHigh.loc[index, 'Kota'] = address['village']\n",
    "\n",
    "# Menampilkan DataFrame\n",
    "print(dfHigh)"
   ]
  },
  {
   "attachments": {},
   "cell_type": "markdown",
   "metadata": {},
   "source": [
    "Mengatur dataframe baru pada sample untuk dilakukan analisa"
   ]
  },
  {
   "cell_type": "code",
   "execution_count": 56,
   "metadata": {},
   "outputs": [],
   "source": [
    "#Membuat kolom baru pada dataset sample pada tiap kategori harga rumah\n",
    "housesLowPriceSample['Kota'] = dfLow['Kota']\n",
    "housesMidlePriceSample['Kota'] = dfMidle['Kota']\n",
    "housesHighPriceSample['Kota'] = dfHigh['Kota']"
   ]
  },
  {
   "cell_type": "code",
   "execution_count": 57,
   "metadata": {},
   "outputs": [
    {
     "data": {
      "text/plain": [
       "Seattle        108\n",
       "Auburn          57\n",
       "Renton          47\n",
       "Federal Way     47\n",
       "Burien          44\n",
       "Name: Kota, dtype: int64"
      ]
     },
     "execution_count": 57,
     "metadata": {},
     "output_type": "execute_result"
    }
   ],
   "source": [
    "#Menghitung kemunculan kota terbanyak pada kategori rumah murah\n",
    "housesLowPriceSample['Kota'].value_counts().head()"
   ]
  },
  {
   "cell_type": "code",
   "execution_count": 124,
   "metadata": {},
   "outputs": [
    {
     "data": {
      "text/plain": [
       "[Text(0, 0, '108'),\n",
       " Text(0, 0, '57'),\n",
       " Text(0, 0, '47'),\n",
       " Text(0, 0, '47'),\n",
       " Text(0, 0, '44')]"
      ]
     },
     "execution_count": 124,
     "metadata": {},
     "output_type": "execute_result"
    },
    {
     "data": {
      "image/png": "[encoded data removed]",
      "text/plain": [
       "<Figure size 640x480 with 1 Axes>"
      ]
     },
     "metadata": {},
     "output_type": "display_data"
    }
   ],
   "source": [
    "#Visualisasi terhadap kemunculan kota pada kategori rumah murah\n",
    "ax = housesLowPriceSample['Kota'].value_counts().head().plot(kind='barh')\n",
    "ax.bar_label(ax.containers[0])"
   ]
  },
  {
   "attachments": {},
   "cell_type": "markdown",
   "metadata": {},
   "source": [
    "Berdasarkan visualisasi kemunculan kota terbanyak pada kategori rumah murah banyak pada daerah Seattle dengan 108 data dan Auburn dengan kemunculan 57 data"
   ]
  },
  {
   "cell_type": "code",
   "execution_count": 59,
   "metadata": {},
   "outputs": [
    {
     "data": {
      "text/plain": [
       "Seattle      141\n",
       "Renton        65\n",
       "Kent          50\n",
       "Shoreline     28\n",
       "Auburn        26\n",
       "Name: Kota, dtype: int64"
      ]
     },
     "execution_count": 59,
     "metadata": {},
     "output_type": "execute_result"
    }
   ],
   "source": [
    "#Menghitung kemunculan kota terbanyak pada kategori rumah menengah\n",
    "housesMidlePriceSample['Kota'].value_counts().head()"
   ]
  },
  {
   "cell_type": "code",
   "execution_count": 125,
   "metadata": {},
   "outputs": [
    {
     "data": {
      "text/plain": [
       "[Text(0, 0, '141'),\n",
       " Text(0, 0, '65'),\n",
       " Text(0, 0, '50'),\n",
       " Text(0, 0, '28'),\n",
       " Text(0, 0, '26')]"
      ]
     },
     "execution_count": 125,
     "metadata": {},
     "output_type": "execute_result"
    },
    {
     "data": {
      "image/png": "[encoded data removed]",
      "text/plain": [
       "<Figure size 640x480 with 1 Axes>"
      ]
     },
     "metadata": {},
     "output_type": "display_data"
    }
   ],
   "source": [
    "#Visualisasi terhadap kemunculan kota pada kategori rumah menengah\n",
    "ax = housesMidlePriceSample['Kota'].value_counts().head().plot(kind='barh')\n",
    "ax.bar_label(ax.containers[0])"
   ]
  },
  {
   "attachments": {},
   "cell_type": "markdown",
   "metadata": {},
   "source": [
    "Berdasarkan visualisasi kemunculan kota terbanyak pada kategori rumah menengah banyak pada daerah Seattle dengan 141 data dan Renton dengan kemunculan 65 data"
   ]
  },
  {
   "cell_type": "code",
   "execution_count": 61,
   "metadata": {},
   "outputs": [
    {
     "data": {
      "text/plain": [
       "Seattle      206\n",
       "Sammamish     57\n",
       "Bellevue      54\n",
       "Kirkland      27\n",
       "Redmond       21\n",
       "Name: Kota, dtype: int64"
      ]
     },
     "execution_count": 61,
     "metadata": {},
     "output_type": "execute_result"
    }
   ],
   "source": [
    "#Menghitung kemunculan kota terbanyak pada kategori rumah mahal\n",
    "housesHighPriceSample['Kota'].value_counts().head()"
   ]
  },
  {
   "cell_type": "code",
   "execution_count": 126,
   "metadata": {},
   "outputs": [
    {
     "data": {
      "text/plain": [
       "[Text(0, 0, '206'),\n",
       " Text(0, 0, '57'),\n",
       " Text(0, 0, '54'),\n",
       " Text(0, 0, '27'),\n",
       " Text(0, 0, '21')]"
      ]
     },
     "execution_count": 126,
     "metadata": {},
     "output_type": "execute_result"
    },
    {
     "data": {
      "image/png": "[encoded data removed]",
      "text/plain": [
       "<Figure size 640x480 with 1 Axes>"
      ]
     },
     "metadata": {},
     "output_type": "display_data"
    }
   ],
   "source": [
    "#Visualisasi terhadap kemunculan kota pada kategori rumah mahal\n",
    "ax = housesHighPriceSample['Kota'].value_counts().head().plot(kind='barh')\n",
    "ax.bar_label(ax.containers[0])"
   ]
  },
  {
   "attachments": {},
   "cell_type": "markdown",
   "metadata": {},
   "source": [
    "Berdasarkan visualisasi kemunculan kota terbanyak pada kategori rumah mahal banyak pada daerah Seattle dengan 206 data dan Sammamish dengan kemunculan 57 data"
   ]
  },
  {
   "attachments": {},
   "cell_type": "markdown",
   "metadata": {},
   "source": [
    "Berdasarkan **analisa terhadap letak kota** yang paling banyak muncul, sebagai faktor yang mempengaruhi harga didapatkan bahwa:\n",
    "\n",
    "Rumah dengan **kategori murah** lebih banyak didapatkan di daerah **Auburn** dan **Renton**\n",
    "\n",
    "Rumah dengan **kategori menengah** lebih banyak didapatkan di daerah \n",
    "**Renton** dan **Kent**\n",
    "\n",
    "Rumah dengan **kategori mahal** lebih banyak didapatkan di daerah\n",
    "**Sammamish** dan **Belleuve**\n",
    "\n",
    "Untuk daerah Seattle merupakan daerah kota yang memiliki banyak varisasi rumah dengan berbagai harga."
   ]
  },
  {
   "attachments": {},
   "cell_type": "markdown",
   "metadata": {},
   "source": [
    "##### 2. Dimana daerah rumah yang memiliki harga yang mahal? (berdasarkan kode post nya)"
   ]
  },
  {
   "cell_type": "code",
   "execution_count": 63,
   "metadata": {},
   "outputs": [
    {
     "data": {
      "text/plain": [
       "Seattle      206\n",
       "Sammamish     57\n",
       "Bellevue      54\n",
       "Kirkland      27\n",
       "Redmond       21\n",
       "Name: Kota, dtype: int64"
      ]
     },
     "execution_count": 63,
     "metadata": {},
     "output_type": "execute_result"
    }
   ],
   "source": [
    "#Menghitung kemunculan kota terbanyak pada kategori rumah mahal\n",
    "housesHighPriceSample['Kota'].value_counts().head()"
   ]
  },
  {
   "attachments": {},
   "cell_type": "markdown",
   "metadata": {},
   "source": [
    "Berdasarkan kode post pada dataset sample, didapat daerah rumah yang memiliki harga mahal antara lain pada daerah \n",
    "\n",
    "**Seattle**      dengan jumlah **206** rumah,\n",
    "**Sammamish**     dengan jumlah **57** rumah,\n",
    "**Bellevue**      dengan jumlah **54** rumah,\n",
    "**Kirkland**      dengan jumlah **27** rumah,\n",
    "**Redmond**       dengan jumlah **21** rumah"
   ]
  },
  {
   "attachments": {},
   "cell_type": "markdown",
   "metadata": {},
   "source": [
    "##### 3. Pada harga rumah termahal, berapa harga tanah per-perseginya? "
   ]
  },
  {
   "cell_type": "code",
   "execution_count": 64,
   "metadata": {},
   "outputs": [
    {
     "data": {
      "text/plain": [
       "7700000.0"
      ]
     },
     "execution_count": 64,
     "metadata": {},
     "output_type": "execute_result"
    }
   ],
   "source": [
    "#Mencari rumah dengan harga termahal\n",
    "houses['price'].max()"
   ]
  },
  {
   "cell_type": "code",
   "execution_count": 65,
   "metadata": {},
   "outputs": [
    {
     "data": {
      "text/html": [
       "<div>\n",
       "<style scoped>\n",
       "    .dataframe tbody tr th:only-of-type {\n",
       "        vertical-align: middle;\n",
       "    }\n",
       "\n",
       "    .dataframe tbody tr th {\n",
       "        vertical-align: top;\n",
       "    }\n",
       "\n",
       "    .dataframe thead th {\n",
       "        text-align: right;\n",
       "    }\n",
       "</style>\n",
       "<table border=\"1\" class=\"dataframe\">\n",
       "  <thead>\n",
       "    <tr style=\"text-align: right;\">\n",
       "      <th></th>\n",
       "      <th>id</th>\n",
       "      <th>date</th>\n",
       "      <th>price</th>\n",
       "      <th>bedrooms</th>\n",
       "      <th>bathrooms</th>\n",
       "      <th>sqft_living</th>\n",
       "      <th>sqft_lot</th>\n",
       "      <th>floors</th>\n",
       "      <th>waterfront</th>\n",
       "      <th>view</th>\n",
       "      <th>condition</th>\n",
       "      <th>grade</th>\n",
       "      <th>sqft_above</th>\n",
       "      <th>sqft_basement</th>\n",
       "      <th>yr_built</th>\n",
       "      <th>yr_renovated</th>\n",
       "      <th>zipcode</th>\n",
       "      <th>lat</th>\n",
       "      <th>long</th>\n",
       "      <th>sqft_living15</th>\n",
       "      <th>sqft_lot15</th>\n",
       "      <th>kategori</th>\n",
       "    </tr>\n",
       "  </thead>\n",
       "  <tbody>\n",
       "    <tr>\n",
       "      <th>7252</th>\n",
       "      <td>6762700020</td>\n",
       "      <td>2014-10-13</td>\n",
       "      <td>7700000.0</td>\n",
       "      <td>6</td>\n",
       "      <td>8.0</td>\n",
       "      <td>12050</td>\n",
       "      <td>27600</td>\n",
       "      <td>2.5</td>\n",
       "      <td>0</td>\n",
       "      <td>3</td>\n",
       "      <td>4</td>\n",
       "      <td>13</td>\n",
       "      <td>8570.0</td>\n",
       "      <td>3480</td>\n",
       "      <td>1910</td>\n",
       "      <td>1987</td>\n",
       "      <td>98102</td>\n",
       "      <td>47.6298</td>\n",
       "      <td>-122.323</td>\n",
       "      <td>3940</td>\n",
       "      <td>8800</td>\n",
       "      <td>Very High Price</td>\n",
       "    </tr>\n",
       "  </tbody>\n",
       "</table>\n",
       "</div>"
      ],
      "text/plain": [
       "              id       date      price  bedrooms  bathrooms  sqft_living  \\\n",
       "7252  6762700020 2014-10-13  7700000.0         6        8.0        12050   \n",
       "\n",
       "      sqft_lot  floors  waterfront  view  condition  grade  sqft_above  \\\n",
       "7252     27600     2.5           0     3          4     13      8570.0   \n",
       "\n",
       "      sqft_basement  yr_built  yr_renovated  zipcode      lat     long  \\\n",
       "7252           3480      1910          1987    98102  47.6298 -122.323   \n",
       "\n",
       "      sqft_living15  sqft_lot15         kategori  \n",
       "7252           3940        8800  Very High Price  "
      ]
     },
     "execution_count": 65,
     "metadata": {},
     "output_type": "execute_result"
    }
   ],
   "source": [
    "#Setelah didapat harga rumah termahal, cari ID rumah tersebut berdasarkan harganya\n",
    "rumahMahal = houses[houses['price'] == 7700000.0]\n",
    "rumahMahal"
   ]
  },
  {
   "cell_type": "code",
   "execution_count": 66,
   "metadata": {},
   "outputs": [
    {
     "data": {
      "text/plain": [
       "7252    278.985507\n",
       "dtype: float64"
      ]
     },
     "execution_count": 66,
     "metadata": {},
     "output_type": "execute_result"
    }
   ],
   "source": [
    "#Menghitung harga tanahnya per-persegi dengan membagi harga rumah dengan luas tanahnya\n",
    "hargaTanah = rumahMahal['price'] / rumahMahal['sqft_lot']\n",
    "hargaTanah"
   ]
  },
  {
   "attachments": {},
   "cell_type": "markdown",
   "metadata": {},
   "source": [
    "Berdasarkan harga **rumah termahal**, didapati **harga tanah per-perseginya** senilai **278.985507**"
   ]
  },
  {
   "attachments": {},
   "cell_type": "markdown",
   "metadata": {},
   "source": [
    "#### 4. Berapa data penjualan rumah perbulannya pada tiap tahunnya? "
   ]
  },
  {
   "cell_type": "code",
   "execution_count": 156,
   "metadata": {},
   "outputs": [],
   "source": [
    "#Membagi data pertahunnya\n",
    "houses2014 = houses[houses['date'].dt.year == 2014].sort_values('date')\n",
    "houses2015 = houses[houses['date'].dt.year == 2015].sort_values('date')"
   ]
  },
  {
   "cell_type": "code",
   "execution_count": 68,
   "metadata": {},
   "outputs": [
    {
     "data": {
      "text/plain": [
       "5     1768\n",
       "6     2180\n",
       "7     2211\n",
       "8     1940\n",
       "9     1774\n",
       "10    1878\n",
       "11    1411\n",
       "12    1471\n",
       "Name: date, dtype: int64"
      ]
     },
     "execution_count": 68,
     "metadata": {},
     "output_type": "execute_result"
    }
   ],
   "source": [
    "#Menampilkan data penjualan 2014\n",
    "houses2014['date'].dt.month.value_counts().sort_index()"
   ]
  },
  {
   "cell_type": "code",
   "execution_count": 159,
   "metadata": {},
   "outputs": [
    {
     "data": {
      "image/png": "[encoded data removed]",
      "text/plain": [
       "<Figure size 640x480 with 1 Axes>"
      ]
     },
     "metadata": {},
     "output_type": "display_data"
    }
   ],
   "source": [
    "#Visualisasi terhadap penjualan 2014\n",
    "line2014 = houses2014['date'].dt.month.value_counts().sort_index()\n",
    "\n",
    "# Membuat line plot dari data frekuensi penjualan per bulan\n",
    "plt.plot(line2014.index, line2014, marker='o', linestyle='-')\n",
    "\n",
    "# Menampilkan nilai pada setiap titik data\n",
    "for i, count in enumerate(line2014):\n",
    "    plt.text(line2014.index[i], count, str(count), ha='center', va='bottom')\n",
    "\n",
    "# Set labels and title\n",
    "plt.xlabel('Bulan')\n",
    "plt.ylabel('Frekuensi Penjualan')\n",
    "plt.title('Frekuensi Penjualan Per Bulan')\n",
    "\n",
    "# Display the plot\n",
    "plt.show()"
   ]
  },
  {
   "attachments": {},
   "cell_type": "markdown",
   "metadata": {},
   "source": [
    "Frekuensi penjualan terbanyak didapati pada bulan 7 pada tahun 2014 dengan total 2211 transaksi yang terjadi."
   ]
  },
  {
   "cell_type": "code",
   "execution_count": 157,
   "metadata": {},
   "outputs": [
    {
     "data": {
      "text/plain": [
       "1     978\n",
       "2    1250\n",
       "3    1875\n",
       "4    2231\n",
       "5     646\n",
       "Name: date, dtype: int64"
      ]
     },
     "execution_count": 157,
     "metadata": {},
     "output_type": "execute_result"
    }
   ],
   "source": [
    "#Menampilkan data penjualan 2015\n",
    "houses2015['date'].dt.month.value_counts().sort_index()"
   ]
  },
  {
   "cell_type": "code",
   "execution_count": 167,
   "metadata": {},
   "outputs": [
    {
     "data": {
      "image/png": "[encoded data removed]",
      "text/plain": [
       "<Figure size 640x480 with 1 Axes>"
      ]
     },
     "metadata": {},
     "output_type": "display_data"
    }
   ],
   "source": [
    "#Visualisasi terhadap penjualan 2015\n",
    "line2015 = houses2015['date'].dt.month.value_counts().sort_index()\n",
    "\n",
    "# Membuat line plot dari data frekuensi penjualan per bulan\n",
    "plt.plot(line2015.index, line2015, marker='o', linestyle='-')\n",
    "\n",
    "# Menampilkan nilai pada setiap titik data\n",
    "for i, count in enumerate(line2015):\n",
    "    plt.text(line2015.index[i], count, str(count), ha='center', va='bottom')\n",
    "\n",
    "# Set labels and title\n",
    "plt.xlabel('Bulan')\n",
    "plt.ylabel('Frekuensi Penjualan')\n",
    "plt.title('Frekuensi Penjualan Per Bulan')\n",
    "\n",
    "# Display the plot\n",
    "plt.show()\n"
   ]
  },
  {
   "attachments": {},
   "cell_type": "markdown",
   "metadata": {},
   "source": [
    "Frekuensi penjualan terbanyak didapati pada bulan 4 pada tahun 2014 dengan total 2231 transaksi yang terjadi."
   ]
  },
  {
   "attachments": {},
   "cell_type": "markdown",
   "metadata": {},
   "source": [
    "Berdasarkan analisi pada **tahun 2014** penjualan terbanyak didapat pada **bulan 7 dengan 2211 penjualan**.\n",
    "\n",
    "Berdasarkan analisi pada **tahun 2015** penjualan terbanyak didapat pada **bulan 4 dengan 2231 penjualan**."
   ]
  },
  {
   "attachments": {},
   "cell_type": "markdown",
   "metadata": {},
   "source": [
    "#### 5. Bagaimana tren harga perumahan dalam tahun 2014-2015 di suatu wilayah?"
   ]
  },
  {
   "attachments": {},
   "cell_type": "markdown",
   "metadata": {},
   "source": [
    "Memilih kota Seattle untuk dilakukan analisa"
   ]
  },
  {
   "cell_type": "code",
   "execution_count": 96,
   "metadata": {},
   "outputs": [],
   "source": [
    "#Membuat dataframe baru\n",
    "lowSeattle = housesLowPriceSample[housesLowPriceSample['Kota'] == 'Seattle']"
   ]
  },
  {
   "cell_type": "code",
   "execution_count": 97,
   "metadata": {},
   "outputs": [],
   "source": [
    "lowSeattle.set_index('date', inplace=True)"
   ]
  },
  {
   "cell_type": "code",
   "execution_count": 170,
   "metadata": {},
   "outputs": [
    {
     "data": {
      "text/plain": [
       "date\n",
       "2014-05-31    149444.0\n",
       "2014-06-30    155114.0\n",
       "2014-07-31    150861.0\n",
       "2014-08-31    134100.0\n",
       "2014-09-30    145200.0\n",
       "2014-10-31    147684.0\n",
       "2014-11-30    151094.0\n",
       "2014-12-31    154625.0\n",
       "2015-01-31    152470.0\n",
       "2015-02-28    154967.0\n",
       "2015-03-31    150008.0\n",
       "2015-04-30    131975.0\n",
       "2015-05-31    158000.0\n",
       "Freq: M, Name: price, dtype: float64"
      ]
     },
     "execution_count": 170,
     "metadata": {},
     "output_type": "execute_result"
    }
   ],
   "source": [
    "#Mencari nilai rata-rata harga tiap bulannya\n",
    "seattle_monthly = lowSeattle['price'].resample('M').mean().round()\n",
    "seattle_monthly"
   ]
  },
  {
   "cell_type": "code",
   "execution_count": 171,
   "metadata": {},
   "outputs": [
    {
     "data": {
      "image/png": "[encoded data removed]",
      "text/plain": [
       "<Figure size 640x480 with 1 Axes>"
      ]
     },
     "metadata": {},
     "output_type": "display_data"
    }
   ],
   "source": [
    "# seattle_monthly.plot(kind='line')\n",
    "\n",
    "# Menghitung frekuensi penjualan per bulan dan mengurutkannya berdasarkan indeks bulan\n",
    "line_seattle = seattle_monthly\n",
    "\n",
    "# Membuat line plot dari data frekuensi penjualan per bulan\n",
    "plt.plot(line_seattle.index, line_seattle, marker='o', linestyle='-')\n",
    "\n",
    "# Menampilkan nilai pada setiap titik data\n",
    "for i, count in enumerate(line_seattle):\n",
    "    plt.text(line_seattle.index[i], count, str(count), ha='center', va='bottom')\n",
    "\n",
    "# Set labels and title\n",
    "plt.xlabel('Bulan')\n",
    "plt.ylabel('Frekuensi Penjualan')\n",
    "plt.title('Frekuensi Penjualan Per Bulan')\n",
    "\n",
    "# Display the plot\n",
    "plt.show()\n"
   ]
  },
  {
   "attachments": {},
   "cell_type": "markdown",
   "metadata": {},
   "source": [
    "Berdasarkan analisa, penjualan termahal terjadi pada bulan **May 2015** sebagai bulan yang paling menguntungkan dalam penjualan dengan jumlah 1580000"
   ]
  },
  {
   "attachments": {},
   "cell_type": "markdown",
   "metadata": {},
   "source": [
    "6. Jika ada yang ingin menjual rumah dengan kategori 8 diperkirakan di kisaran harga berapa rumah tersebut pantas untuk dijual. Hitung central tendency terhadap data yang tidak ada outliers nya dan hitung confidence interval terhadap harga rumahnya. "
   ]
  },
  {
   "cell_type": "code",
   "execution_count": 100,
   "metadata": {},
   "outputs": [],
   "source": [
    "#Membuat dataframe baru dengan kategori grade 8\n",
    "grade8 = houses[houses['grade'] == 8]"
   ]
  },
  {
   "attachments": {},
   "cell_type": "markdown",
   "metadata": {},
   "source": [
    "Membuat fungsi untuk dilakukan pengujian dan pencarian terhadap nilai outline dan mengetahui Skewness pada sample data yang dipiih"
   ]
  },
  {
   "cell_type": "code",
   "execution_count": 101,
   "metadata": {},
   "outputs": [],
   "source": [
    "def plot_dist(grade8, col):\n",
    "    fig, axes = plt.subplots(ncols = 2, figsize = (15, 5))\n",
    "    \n",
    "    # histogram\n",
    "    sns.histplot(grade8[col],ax = axes[0], bins=30)\n",
    "    axes[0].set_title(f\"Histogram '{col}'\")\n",
    "    axes[0].axvline(grade8[col].mean(), color = 'red', linestyle = 'dashed', label = 'mean')\n",
    "    axes[0].axvline(grade8[col].median(), color = 'green', linestyle = 'dashed', label = 'median')\n",
    "    axes[0].legend()\n",
    "    \n",
    "    # boxplot\n",
    "    sns.boxplot(y=grade8[col], ax =  axes[1])\n",
    "    axes[1].set_title(f\"Boxplot '{col}'\")\n",
    "    \n",
    "    plt.show()\n",
    "    \n",
    "    # skewness\n",
    "    print(grade8[col].name + ' Kurtosis: ' + str(grade8[col].kurt()))\n",
    "    print(grade8[col].name + ' Skewness: ' + str(grade8[col].skew()))\n",
    "    if -0.5 <= grade8[col].skew() <= 0.5:\n",
    "        print(\"Columns '{}' normal distribution\".format(col))\n",
    "    elif grade8[col].skew() > 0.5:\n",
    "        print(\"Columns '{}' right skewed\".format(col))\n",
    "    elif grade8[col].skew() < -0.5:\n",
    "        print(\"Columns '{}' left skewed\".format(col))"
   ]
  },
  {
   "cell_type": "code",
   "execution_count": 102,
   "metadata": {},
   "outputs": [
    {
     "data": {
      "text/plain": [
       "['id',\n",
       " 'date',\n",
       " 'price',\n",
       " 'bedrooms',\n",
       " 'bathrooms',\n",
       " 'sqft_living',\n",
       " 'sqft_lot',\n",
       " 'floors',\n",
       " 'waterfront',\n",
       " 'view',\n",
       " 'condition',\n",
       " 'grade',\n",
       " 'sqft_above',\n",
       " 'sqft_basement',\n",
       " 'yr_built',\n",
       " 'yr_renovated',\n",
       " 'zipcode',\n",
       " 'lat',\n",
       " 'long',\n",
       " 'sqft_living15',\n",
       " 'sqft_lot15',\n",
       " 'kategori']"
      ]
     },
     "execution_count": 102,
     "metadata": {},
     "output_type": "execute_result"
    }
   ],
   "source": [
    "df_col = grade8.columns.tolist()\n",
    "df_col"
   ]
  },
  {
   "cell_type": "code",
   "execution_count": 103,
   "metadata": {},
   "outputs": [
    {
     "data": {
      "image/png": "[encoded data removed]",
      "text/plain": [
       "<Figure size 1500x500 with 2 Axes>"
      ]
     },
     "metadata": {},
     "output_type": "display_data"
    },
    {
     "name": "stdout",
     "output_type": "stream",
     "text": [
      "price Kurtosis: 9.89976225098415\n",
      "price Skewness: 2.0143008168119456\n",
      "Columns 'price' right skewed\n"
     ]
    }
   ],
   "source": [
    "plot_dist(grade8, df_col[2])"
   ]
  },
  {
   "attachments": {},
   "cell_type": "markdown",
   "metadata": {},
   "source": [
    "Berdasarkan pengujian, data dengan grade 8 memiliki nilai skewness sebesar '2.0143008168119456' dan merupakan 'right skewed'"
   ]
  },
  {
   "cell_type": "code",
   "execution_count": 106,
   "metadata": {},
   "outputs": [
    {
     "data": {
      "text/plain": [
       "array([390000., 510000., 640000.])"
      ]
     },
     "execution_count": 106,
     "metadata": {},
     "output_type": "execute_result"
    }
   ],
   "source": [
    "#Mencari nilai kuartile untuk selanjutnya dilakukan proses pembersihan outliers\n",
    "quartiles = np.percentile(grade8['price'], [25, 50, 75])\n",
    "quartiles"
   ]
  },
  {
   "cell_type": "code",
   "execution_count": 107,
   "metadata": {},
   "outputs": [],
   "source": [
    "#Mencari Min dan Max threshold untuk handling outliers nya\n",
    "min_threshold = quartiles[0] - 1.5 *(quartiles[1] - quartiles[0] )\n",
    "max_threshold = quartiles[2] + 1.5 *(quartiles[1] - quartiles[0] )"
   ]
  },
  {
   "cell_type": "code",
   "execution_count": 108,
   "metadata": {},
   "outputs": [],
   "source": [
    "#Filter outliers\n",
    "grade8_no_outliers = grade8[(grade8['price']>= min_threshold)&(grade8['price']<= max_threshold)]"
   ]
  },
  {
   "cell_type": "code",
   "execution_count": 109,
   "metadata": {},
   "outputs": [],
   "source": [
    "#Menampilkan data terbaru yang sudah bersih dari outliers nya\n",
    "def plot_dist(grade8_no_outliers, col):\n",
    "    fig, axes = plt.subplots(ncols = 2, figsize = (15, 5))\n",
    "    \n",
    "    # histogram\n",
    "    sns.histplot(grade8_no_outliers[col],ax = axes[0], bins=30)\n",
    "    axes[0].set_title(f\"Histogram '{col}'\")\n",
    "    axes[0].axvline(grade8_no_outliers[col].mean(), color = 'red', linestyle = 'dashed', label = 'mean')\n",
    "    axes[0].axvline(grade8_no_outliers[col].median(), color = 'green', linestyle = 'dashed', label = 'median')\n",
    "    axes[0].legend()\n",
    "    \n",
    "    # boxplot\n",
    "    sns.boxplot(y=grade8_no_outliers[col], ax =  axes[1])\n",
    "    axes[1].set_title(f\"Boxplot '{col}'\")\n",
    "    \n",
    "    plt.show()\n",
    "    \n",
    "    # skewness\n",
    "    print(grade8_no_outliers[col].name + ' Kurtosis: ' + str(grade8_no_outliers[col].kurt()))\n",
    "    print(grade8_no_outliers[col].name + ' Skewness: ' + str(grade8_no_outliers[col].skew()))\n",
    "    if -0.5 <= grade8_no_outliers[col].skew() <= 0.5:\n",
    "        print(\"Columns '{}' normal distribution\".format(col))\n",
    "    elif grade8_no_outliers[col].skew() > 0.5:\n",
    "        print(\"Columns '{}' right skewed\".format(col))\n",
    "    elif grade8_no_outliers[col].skew() < -0.5:\n",
    "        print(\"Columns '{}' left skewed\".format(col))"
   ]
  },
  {
   "cell_type": "code",
   "execution_count": 111,
   "metadata": {},
   "outputs": [
    {
     "data": {
      "image/png": "[encoded data removed]",
      "text/plain": [
       "<Figure size 1500x500 with 2 Axes>"
      ]
     },
     "metadata": {},
     "output_type": "display_data"
    },
    {
     "name": "stdout",
     "output_type": "stream",
     "text": [
      "price Kurtosis: -0.7748030117334026\n",
      "price Skewness: 0.22595037350422048\n",
      "Columns 'price' normal distribution\n"
     ]
    }
   ],
   "source": [
    "df_col = grade8_no_outliers.columns.tolist()\n",
    "plot_dist(grade8_no_outliers, df_col[2])"
   ]
  },
  {
   "attachments": {},
   "cell_type": "markdown",
   "metadata": {},
   "source": [
    "Selanjutnya dicari juga perbandingan Central Tendency(mean, median, mode) antara data yang masih ada outliner dan data yang sudah tidak ada outlinernya."
   ]
  },
  {
   "cell_type": "code",
   "execution_count": 112,
   "metadata": {},
   "outputs": [
    {
     "name": "stdout",
     "output_type": "stream",
     "text": [
      "Mean data yang bersih dari outliers: 497505.4815555152\n",
      "Mean data yang ada outliers: 542852.7656558998\n"
     ]
    }
   ],
   "source": [
    "#Mean\n",
    "grade8NoOutMean = grade8_no_outliers['price'].mean()\n",
    "grade8OutMean = grade8['price'].mean()\n",
    "\n",
    "print('Mean data yang bersih dari outliers:', grade8NoOutMean)\n",
    "print('Mean data yang ada outliers:', grade8OutMean)"
   ]
  },
  {
   "cell_type": "code",
   "execution_count": 113,
   "metadata": {},
   "outputs": [
    {
     "name": "stdout",
     "output_type": "stream",
     "text": [
      "Mean data yang bersih dari outliers: 494000.0\n",
      "Mean data yang ada outliers: 510000.0\n"
     ]
    }
   ],
   "source": [
    "#Median\n",
    "grade8NoOutMedian = grade8_no_outliers['price'].median()\n",
    "grade8OutMedian = grade8['price'].median()\n",
    "\n",
    "print('Mean data yang bersih dari outliers:', grade8NoOutMedian)\n",
    "print('Mean data yang ada outliers:', grade8OutMedian)"
   ]
  },
  {
   "cell_type": "code",
   "execution_count": 114,
   "metadata": {},
   "outputs": [
    {
     "name": "stdout",
     "output_type": "stream",
     "text": [
      "Mean data yang bersih dari outliers: 0    550000.0\n",
      "Name: price, dtype: float64\n",
      "Mean data yang ada outliers: 0    550000.0\n",
      "Name: price, dtype: float64\n"
     ]
    }
   ],
   "source": [
    "#Modus\n",
    "grade8NoOutModus = grade8_no_outliers['price'].mode()\n",
    "grade8OutModus = grade8['price'].mode()\n",
    "\n",
    "print('Mean data yang bersih dari outliers:', grade8NoOutModus)\n",
    "print('Mean data yang ada outliers:', grade8OutModus,)"
   ]
  },
  {
   "attachments": {},
   "cell_type": "markdown",
   "metadata": {},
   "source": [
    "Berdasarkan nilai central tendency yang didapat, dijelaskan bahwa mean pada data yang bersih dari outlier: **497505.4815555152** dan data yang ada outliers: **542852.7656558998**\n",
    "\n",
    "median pada data yang bersih dari outlier: **494000** dan data yang ada outliers: **510000**\n",
    "\n",
    "modus pada data yang bersih dari outlier dan data yang ada outliers: **550000**\n",
    "\n",
    "Perbedaan value yang didapatkan disebabkan oleh adanya perbedaan data antara data right skew dan normal distribution hasil clean outliers."
   ]
  },
  {
   "attachments": {},
   "cell_type": "markdown",
   "metadata": {},
   "source": [
    "Menganalisa data untuk dimulai mencari perhitungan dari Confidence Interval nya"
   ]
  },
  {
   "cell_type": "code",
   "execution_count": 115,
   "metadata": {},
   "outputs": [],
   "source": [
    "#Membuat dataframe baru untuk mencari nilai CI nya\n",
    "grade8_no_outliers2015 = grade8_no_outliers[grade8_no_outliers['date'].dt.year == 2015]"
   ]
  },
  {
   "cell_type": "code",
   "execution_count": 116,
   "metadata": {},
   "outputs": [
    {
     "data": {
      "text/html": [
       "<div>\n",
       "<style scoped>\n",
       "    .dataframe tbody tr th:only-of-type {\n",
       "        vertical-align: middle;\n",
       "    }\n",
       "\n",
       "    .dataframe tbody tr th {\n",
       "        vertical-align: top;\n",
       "    }\n",
       "\n",
       "    .dataframe thead th {\n",
       "        text-align: right;\n",
       "    }\n",
       "</style>\n",
       "<table border=\"1\" class=\"dataframe\">\n",
       "  <thead>\n",
       "    <tr style=\"text-align: right;\">\n",
       "      <th></th>\n",
       "      <th>price</th>\n",
       "    </tr>\n",
       "    <tr>\n",
       "      <th>date</th>\n",
       "      <th></th>\n",
       "    </tr>\n",
       "  </thead>\n",
       "  <tbody>\n",
       "    <tr>\n",
       "      <th>2015-01-02</th>\n",
       "      <td>7142700.0</td>\n",
       "    </tr>\n",
       "    <tr>\n",
       "      <th>2015-01-05</th>\n",
       "      <td>9601376.0</td>\n",
       "    </tr>\n",
       "    <tr>\n",
       "      <th>2015-01-06</th>\n",
       "      <td>3891600.0</td>\n",
       "    </tr>\n",
       "    <tr>\n",
       "      <th>2015-01-07</th>\n",
       "      <td>7858675.0</td>\n",
       "    </tr>\n",
       "    <tr>\n",
       "      <th>2015-01-08</th>\n",
       "      <td>6643000.0</td>\n",
       "    </tr>\n",
       "    <tr>\n",
       "      <th>...</th>\n",
       "      <td>...</td>\n",
       "    </tr>\n",
       "    <tr>\n",
       "      <th>2015-05-09</th>\n",
       "      <td>812000.0</td>\n",
       "    </tr>\n",
       "    <tr>\n",
       "      <th>2015-05-11</th>\n",
       "      <td>3478900.0</td>\n",
       "    </tr>\n",
       "    <tr>\n",
       "      <th>2015-05-12</th>\n",
       "      <td>5606000.0</td>\n",
       "    </tr>\n",
       "    <tr>\n",
       "      <th>2015-05-13</th>\n",
       "      <td>3988440.0</td>\n",
       "    </tr>\n",
       "    <tr>\n",
       "      <th>2015-05-14</th>\n",
       "      <td>1084000.0</td>\n",
       "    </tr>\n",
       "  </tbody>\n",
       "</table>\n",
       "<p>118 rows × 1 columns</p>\n",
       "</div>"
      ],
      "text/plain": [
       "                price\n",
       "date                 \n",
       "2015-01-02  7142700.0\n",
       "2015-01-05  9601376.0\n",
       "2015-01-06  3891600.0\n",
       "2015-01-07  7858675.0\n",
       "2015-01-08  6643000.0\n",
       "...               ...\n",
       "2015-05-09   812000.0\n",
       "2015-05-11  3478900.0\n",
       "2015-05-12  5606000.0\n",
       "2015-05-13  3988440.0\n",
       "2015-05-14  1084000.0\n",
       "\n",
       "[118 rows x 1 columns]"
      ]
     },
     "execution_count": 116,
     "metadata": {},
     "output_type": "execute_result"
    }
   ],
   "source": [
    "grade8_Clear = grade8_no_outliers2015[['date','price']].groupby('date').sum()\n",
    "grade8_Clear"
   ]
  },
  {
   "attachments": {},
   "cell_type": "markdown",
   "metadata": {},
   "source": [
    "Melakukan perhitungan CI"
   ]
  },
  {
   "cell_type": "code",
   "execution_count": 117,
   "metadata": {},
   "outputs": [
    {
     "name": "stdout",
     "output_type": "stream",
     "text": [
      "Sample mean: price    7.361904e+06\n",
      "dtype: float64\n",
      "Standard deviation: price    4.703210e+06\n",
      "dtype: float64\n",
      "Confidence level: 0.95\n",
      "Degrees of freedom: 117\n",
      "t-value: 1.6579816587044385\n",
      "Standard error of the mean: price    432965.612616\n",
      "dtype: float64\n",
      "Margin of error: price    717849.044568\n",
      "dtype: float64\n",
      "Confidence interval: (price    6.644055e+06\n",
      "dtype: float64, price    8.079753e+06\n",
      "dtype: float64)\n"
     ]
    }
   ],
   "source": [
    "from scipy.stats import t\n",
    "\n",
    "# calculate the mean and standard deviation of the sample\n",
    "sample_mean = np.mean(grade8_Clear,axis=0)\n",
    "sample_std = np.std(grade8_Clear)\n",
    "\n",
    "# set the level of confidence (e.g., 95%)\n",
    "conf_level = 0.95\n",
    "\n",
    "# calculate the degrees of freedom\n",
    "df = len(grade8_Clear) - 1\n",
    "\n",
    "# calculate the t-value for the confidence level and degrees of freedom\n",
    "t_val = t.ppf(conf_level, df)\n",
    "\n",
    "# calculate the standard error of the mean\n",
    "std_err = sample_std / np.sqrt(len(grade8_Clear))\n",
    "\n",
    "# calculate the margin of error\n",
    "margin_err = t_val * std_err\n",
    "\n",
    "# calculate the confidence interval\n",
    "conf_int = (sample_mean - margin_err, sample_mean + margin_err)\n",
    "\n",
    "print('Sample mean:', sample_mean)\n",
    "print('Standard deviation:', sample_std)\n",
    "print('Confidence level:', conf_level)\n",
    "print('Degrees of freedom:', df)\n",
    "print('t-value:', t_val)\n",
    "print('Standard error of the mean:', std_err)\n",
    "print('Margin of error:', margin_err)\n",
    "print('Confidence interval:', conf_int)"
   ]
  },
  {
   "attachments": {},
   "cell_type": "markdown",
   "metadata": {},
   "source": [
    "Berdasarkan analisa yang dilakukan, menggunakan dataset yang sudah bersih dari outliers pada tahun 2015 dengan rumah grade 8 maka prediksi rata-rata sale price populasi antara lain di kisaran harga **6644055.0** hingga harga **8079753.0** merupakan harga yang layak untuk penjualan rumah disaat itu."
   ]
  },
  {
   "attachments": {},
   "cell_type": "markdown",
   "metadata": {},
   "source": [
    "#### Pengambilan Kesimpulan"
   ]
  },
  {
   "attachments": {},
   "cell_type": "markdown",
   "metadata": {},
   "source": [
    "Berdasarkan analisa yang telah dilakukan didapatkan bahwa:\n",
    "\n",
    "Faktor-faktor yang mempengaruhi harga rumah antara lain :\n",
    "- Jumlah waterfront nya, dimana rumah mahal memiliki view perairan lebih banyak di banding rumah murah.\n",
    "- Berdasarkan perhitungan sqft_lot / luas tanah pada masing-masing rumah. Rumah dengan kategori mahal memiliki tanah yang lebih luas dibandingkan dengan rumah dengan harga murah.\n",
    "- Pada rumah mahal biasanya rumah tersebut memiliki ciri jumlah kamar lebih banyak dan pada rumah murah.\n",
    "- Berdasarkan analisa terhadap letak kota yang paling banyak muncul, Rumah dengan kategori murah lebih banyak didapatkan di daerah Auburn dan Renton. Rumah dengan kategori mahal lebih banyak didapatkan di daerah Sammamish dan Belleuve.\n",
    "\n",
    "Pada rumah termahal, didapati harga tanah per-perseginya senilai 278.985507. Pada tahun 2014 penjualan terbanyak didapat pada bulan 7 dan pada tahun 2015 penjualan terbanyak didapat pada bulan 4. Sedangkan untuk penjualan terlaris dan ter untung tejadi pada bulan Mei 2015.\n",
    "\n",
    "Berdasarkan analisa yang dilakukan, menggunakan dataset yang sudah bersih dari outliers pada tahun 2015 dengan rumah grade 8 maka prediksi rata-rata sale price antara lain di kisaran harga 6644055.0 hingga harga 8079753.0 merupakan harga yang layak untuk penjualan rumah disaat itu.\n",
    "\n",
    "**Berdasarkan analisa yang dilakukan dapat dijawab bahwa kondisi rumah, fasilitas, lokasi suatu daerah dapat mempengaruhi harga suatu rumah yang dijual pada tahun 2014-2015** "
   ]
  },
  {
   "attachments": {},
   "cell_type": "markdown",
   "metadata": {},
   "source": []
  }
 ],
 "metadata": {
  "kernelspec": {
   "display_name": "Python 3",
   "language": "python",
   "name": "python3"
  },
  "language_info": {
   "codemirror_mode": {
    "name": "ipython",
    "version": 3
   },
   "file_extension": ".py",
   "mimetype": "text/x-python",
   "name": "python",
   "nbconvert_exporter": "python",
   "pygments_lexer": "ipython3",
   "version": "3.10.9"
  },
  "orig_nbformat": 4
 },
 "nbformat": 4,
 "nbformat_minor": 2
}
